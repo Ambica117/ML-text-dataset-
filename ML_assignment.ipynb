{
  "metadata": {
    "kernelspec": {
      "language": "python",
      "display_name": "Python 3",
      "name": "python3"
    },
    "language_info": {
      "name": "python",
      "version": "3.10.13",
      "mimetype": "text/x-python",
      "codemirror_mode": {
        "name": "ipython",
        "version": 3
      },
      "pygments_lexer": "ipython3",
      "nbconvert_exporter": "python",
      "file_extension": ".py"
    },
    "kaggle": {
      "accelerator": "none",
      "dataSources": [
        {
          "sourceId": 3494,
          "sourceType": "datasetVersion",
          "datasetId": 2050
        }
      ],
      "dockerImageVersionId": 30673,
      "isInternetEnabled": false,
      "language": "python",
      "sourceType": "notebook",
      "isGpuEnabled": false
    },
    "colab": {
      "provenance": []
    }
  },
  "nbformat_minor": 0,
  "nbformat": 4,
  "cells": [
    {
      "source": [
        "\n",
        "# IMPORTANT: RUN THIS CELL IN ORDER TO IMPORT YOUR KAGGLE DATA SOURCES\n",
        "# TO THE CORRECT LOCATION (/kaggle/input) IN YOUR NOTEBOOK,\n",
        "# THEN FEEL FREE TO DELETE THIS CELL.\n",
        "# NOTE: THIS NOTEBOOK ENVIRONMENT DIFFERS FROM KAGGLE'S PYTHON\n",
        "# ENVIRONMENT SO THERE MAY BE MISSING LIBRARIES USED BY YOUR\n",
        "# NOTEBOOK.\n",
        "\n",
        "import os\n",
        "import sys\n",
        "from tempfile import NamedTemporaryFile\n",
        "from urllib.request import urlopen\n",
        "from urllib.parse import unquote, urlparse\n",
        "from urllib.error import HTTPError\n",
        "from zipfile import ZipFile\n",
        "import tarfile\n",
        "import shutil\n",
        "\n",
        "CHUNK_SIZE = 40960\n",
        "DATA_SOURCE_MAPPING = 'spam-text-message-classification:https%3A%2F%2Fstorage.googleapis.com%2Fkaggle-data-sets%2F2050%2F3494%2Fbundle%2Farchive.zip%3FX-Goog-Algorithm%3DGOOG4-RSA-SHA256%26X-Goog-Credential%3Dgcp-kaggle-com%2540kaggle-161607.iam.gserviceaccount.com%252F20240401%252Fauto%252Fstorage%252Fgoog4_request%26X-Goog-Date%3D20240401T130658Z%26X-Goog-Expires%3D259200%26X-Goog-SignedHeaders%3Dhost%26X-Goog-Signature%3D6ce8cc0138761d2bbd965463ffca02cd16ca7192f3804700d380106a8ca444d38b3b06c83bb4a1b7e5a2ebad6989d7bd177698a76b1d5b19850fe464a3cdf7ed6482d2ba8c57c0d7bf7128e63d2e57f4842a4802b05114568b0872db6025a23653c31ae243a97ab05c9a29d5b2ac5c35428023aeff7c60d9b40ae65cd26dda77e5c30d313b62b9ef7fb71f56bb306ac2e269c62c42154643882d8e25beee000036e7e3253a04ec5af640d343fca2846d4eef6a3bd8d8acf7110f1d4633ecd42d6e9018c4d93a90855cacdf0a7b8d9e8b60461b09ed0f3fb77b4e8645bd76f3738e7c439cda57380643da0a2d1dfe0629347b6e62ca2049740b9e49dc33535923'\n",
        "\n",
        "KAGGLE_INPUT_PATH='/kaggle/input'\n",
        "KAGGLE_WORKING_PATH='/kaggle/working'\n",
        "KAGGLE_SYMLINK='kaggle'\n",
        "\n",
        "!umount /kaggle/input/ 2> /dev/null\n",
        "shutil.rmtree('/kaggle/input', ignore_errors=True)\n",
        "os.makedirs(KAGGLE_INPUT_PATH, 0o777, exist_ok=True)\n",
        "os.makedirs(KAGGLE_WORKING_PATH, 0o777, exist_ok=True)\n",
        "\n",
        "try:\n",
        "  os.symlink(KAGGLE_INPUT_PATH, os.path.join(\"..\", 'input'), target_is_directory=True)\n",
        "except FileExistsError:\n",
        "  pass\n",
        "try:\n",
        "  os.symlink(KAGGLE_WORKING_PATH, os.path.join(\"..\", 'working'), target_is_directory=True)\n",
        "except FileExistsError:\n",
        "  pass\n",
        "\n",
        "for data_source_mapping in DATA_SOURCE_MAPPING.split(','):\n",
        "    directory, download_url_encoded = data_source_mapping.split(':')\n",
        "    download_url = unquote(download_url_encoded)\n",
        "    filename = urlparse(download_url).path\n",
        "    destination_path = os.path.join(KAGGLE_INPUT_PATH, directory)\n",
        "    try:\n",
        "        with urlopen(download_url) as fileres, NamedTemporaryFile() as tfile:\n",
        "            total_length = fileres.headers['content-length']\n",
        "            print(f'Downloading {directory}, {total_length} bytes compressed')\n",
        "            dl = 0\n",
        "            data = fileres.read(CHUNK_SIZE)\n",
        "            while len(data) > 0:\n",
        "                dl += len(data)\n",
        "                tfile.write(data)\n",
        "                done = int(50 * dl / int(total_length))\n",
        "                sys.stdout.write(f\"\\r[{'=' * done}{' ' * (50-done)}] {dl} bytes downloaded\")\n",
        "                sys.stdout.flush()\n",
        "                data = fileres.read(CHUNK_SIZE)\n",
        "            if filename.endswith('.zip'):\n",
        "              with ZipFile(tfile) as zfile:\n",
        "                zfile.extractall(destination_path)\n",
        "            else:\n",
        "              with tarfile.open(tfile.name) as tarfile:\n",
        "                tarfile.extractall(destination_path)\n",
        "            print(f'\\nDownloaded and uncompressed: {directory}')\n",
        "    except HTTPError as e:\n",
        "        print(f'Failed to load (likely expired) {download_url} to path {destination_path}')\n",
        "        continue\n",
        "    except OSError as e:\n",
        "        print(f'Failed to load {download_url} to path {destination_path}')\n",
        "        continue\n",
        "\n",
        "print('Data source import complete.')\n"
      ],
      "metadata": {
        "colab": {
          "base_uri": "https://localhost:8080/"
        },
        "id": "ZeVJei9dxTdW",
        "outputId": "a3a72589-b995-46fa-e72f-2d5eea105d5e"
      },
      "cell_type": "code",
      "outputs": [
        {
          "output_type": "stream",
          "name": "stdout",
          "text": [
            "Downloading spam-text-message-classification, 213261 bytes compressed\n",
            "[==================================================] 213261 bytes downloaded\n",
            "Downloaded and uncompressed: spam-text-message-classification\n",
            "Data source import complete.\n"
          ]
        }
      ],
      "execution_count": 1
    },
    {
      "cell_type": "code",
      "source": [
        "# This Python 3 environment comes with many helpful analytics libraries installed\n",
        "# It is defined by the kaggle/python Docker image: https://github.com/kaggle/docker-python\n",
        "# For example, here's several helpful packages to load\n",
        "\n",
        "import numpy as np # linear algebra\n",
        "import pandas as pd # data processing, CSV file I/O (e.g. pd.read_csv)\n",
        "\n",
        "# Input data files are available in the read-only \"../input/\" directory\n",
        "# For example, running this (by clicking run or pressing Shift+Enter) will list all files under the input directory\n",
        "\n",
        "import os\n",
        "for dirname, _, filenames in os.walk('/kaggle/input'):\n",
        "    for filename in filenames:\n",
        "        print(os.path.join(dirname, filename))\n",
        "\n",
        "# You can write up to 20GB to the current directory (/kaggle/working/) that gets preserved as output when you create a version using \"Save & Run All\"\n",
        "# You can also write temporary files to /kaggle/temp/, but they won't be saved outside of the current session"
      ],
      "metadata": {
        "_uuid": "8f2839f25d086af736a60e9eeb907d3b93b6e0e5",
        "_cell_guid": "b1076dfc-b9ad-4769-8c92-a6c4dae69d19",
        "execution": {
          "iopub.status.busy": "2024-04-01T13:02:43.026415Z",
          "iopub.execute_input": "2024-04-01T13:02:43.026789Z",
          "iopub.status.idle": "2024-04-01T13:02:44.193556Z",
          "shell.execute_reply.started": "2024-04-01T13:02:43.026759Z",
          "shell.execute_reply": "2024-04-01T13:02:44.191988Z"
        },
        "trusted": true,
        "colab": {
          "base_uri": "https://localhost:8080/"
        },
        "id": "jJaLQUv3xTdZ",
        "outputId": "f5567c46-62b8-4d98-b1fa-29bad3e0ff11"
      },
      "execution_count": 2,
      "outputs": [
        {
          "output_type": "stream",
          "name": "stdout",
          "text": [
            "/kaggle/input/spam-text-message-classification/SPAM text message 20170820 - Data.csv\n"
          ]
        }
      ]
    },
    {
      "cell_type": "code",
      "source": [
        "import pandas as pd\n",
        "import numpy as np\n",
        "import seaborn as sn\n",
        "import matplotlib.pyplot as plt\n",
        "import re\n",
        "import nltk\n",
        "from collections import Counter\n",
        "from sklearn.feature_extraction.text import TfidfVectorizer,CountVectorizer\n",
        "from sklearn.model_selection import train_test_split\n",
        "from sklearn.svm import SVC\n",
        "from sklearn.tree import DecisionTreeClassifier\n",
        "from sklearn.ensemble import RandomForestClassifier\n",
        "from sklearn.naive_bayes import GaussianNB,MultinomialNB\n",
        "from sklearn import metrics\n",
        "\n",
        "from nltk.stem import WordNetLemmatizer\n",
        "from nltk.corpus import stopwords\n",
        "from nltk.stem.porter import PorterStemmer\n",
        "from nltk.tokenize import word_tokenize\n",
        "from collections import Counter\n",
        "from wordcloud import WordCloud\n",
        "from nltk.tokenize.toktok import ToktokTokenizer\n",
        "from bs4 import BeautifulSoup\n",
        "from nltk import pos_tag\n",
        "from nltk.corpus import wordnet"
      ],
      "metadata": {
        "execution": {
          "iopub.status.busy": "2024-04-01T13:02:48.821612Z",
          "iopub.execute_input": "2024-04-01T13:02:48.822154Z",
          "iopub.status.idle": "2024-04-01T13:02:49.766986Z",
          "shell.execute_reply.started": "2024-04-01T13:02:48.822122Z",
          "shell.execute_reply": "2024-04-01T13:02:49.765743Z"
        },
        "trusted": true,
        "id": "HsRh4fztxTda"
      },
      "execution_count": 3,
      "outputs": []
    },
    {
      "cell_type": "code",
      "source": [
        "df1 = pd.read_csv(\"/kaggle/input/spam-text-message-classification/SPAM text message 20170820 - Data.csv\")"
      ],
      "metadata": {
        "execution": {
          "iopub.status.busy": "2024-04-01T13:03:04.526003Z",
          "iopub.execute_input": "2024-04-01T13:03:04.526761Z",
          "iopub.status.idle": "2024-04-01T13:03:04.548745Z",
          "shell.execute_reply.started": "2024-04-01T13:03:04.526726Z",
          "shell.execute_reply": "2024-04-01T13:03:04.547818Z"
        },
        "trusted": true,
        "id": "G-dYoEVwxTdb"
      },
      "execution_count": 4,
      "outputs": []
    },
    {
      "cell_type": "code",
      "source": [
        "df1.shape"
      ],
      "metadata": {
        "execution": {
          "iopub.status.busy": "2024-04-01T13:03:08.136123Z",
          "iopub.execute_input": "2024-04-01T13:03:08.137125Z",
          "iopub.status.idle": "2024-04-01T13:03:08.144307Z",
          "shell.execute_reply.started": "2024-04-01T13:03:08.137086Z",
          "shell.execute_reply": "2024-04-01T13:03:08.142991Z"
        },
        "trusted": true,
        "id": "m-NZD_UkxTdb",
        "outputId": "cddd0416-be9f-43fc-8fe3-553cff33192a",
        "colab": {
          "base_uri": "https://localhost:8080/"
        }
      },
      "execution_count": 5,
      "outputs": [
        {
          "output_type": "execute_result",
          "data": {
            "text/plain": [
              "(5572, 2)"
            ]
          },
          "metadata": {},
          "execution_count": 5
        }
      ]
    },
    {
      "cell_type": "code",
      "source": [
        "df1.head()"
      ],
      "metadata": {
        "execution": {
          "iopub.status.busy": "2024-04-01T13:03:12.220887Z",
          "iopub.execute_input": "2024-04-01T13:03:12.22131Z",
          "iopub.status.idle": "2024-04-01T13:03:12.239454Z",
          "shell.execute_reply.started": "2024-04-01T13:03:12.221278Z",
          "shell.execute_reply": "2024-04-01T13:03:12.238189Z"
        },
        "trusted": true,
        "id": "FJ7njMPUxTdc",
        "outputId": "be1db128-761f-4313-f4ff-55c382f4a2c3",
        "colab": {
          "base_uri": "https://localhost:8080/",
          "height": 206
        }
      },
      "execution_count": 6,
      "outputs": [
        {
          "output_type": "execute_result",
          "data": {
            "text/plain": [
              "  Category                                            Message\n",
              "0      ham  Go until jurong point, crazy.. Available only ...\n",
              "1      ham                      Ok lar... Joking wif u oni...\n",
              "2     spam  Free entry in 2 a wkly comp to win FA Cup fina...\n",
              "3      ham  U dun say so early hor... U c already then say...\n",
              "4      ham  Nah I don't think he goes to usf, he lives aro..."
            ],
            "text/html": [
              "\n",
              "  <div id=\"df-05a07240-706b-41f0-af1b-b4c08e646b02\" class=\"colab-df-container\">\n",
              "    <div>\n",
              "<style scoped>\n",
              "    .dataframe tbody tr th:only-of-type {\n",
              "        vertical-align: middle;\n",
              "    }\n",
              "\n",
              "    .dataframe tbody tr th {\n",
              "        vertical-align: top;\n",
              "    }\n",
              "\n",
              "    .dataframe thead th {\n",
              "        text-align: right;\n",
              "    }\n",
              "</style>\n",
              "<table border=\"1\" class=\"dataframe\">\n",
              "  <thead>\n",
              "    <tr style=\"text-align: right;\">\n",
              "      <th></th>\n",
              "      <th>Category</th>\n",
              "      <th>Message</th>\n",
              "    </tr>\n",
              "  </thead>\n",
              "  <tbody>\n",
              "    <tr>\n",
              "      <th>0</th>\n",
              "      <td>ham</td>\n",
              "      <td>Go until jurong point, crazy.. Available only ...</td>\n",
              "    </tr>\n",
              "    <tr>\n",
              "      <th>1</th>\n",
              "      <td>ham</td>\n",
              "      <td>Ok lar... Joking wif u oni...</td>\n",
              "    </tr>\n",
              "    <tr>\n",
              "      <th>2</th>\n",
              "      <td>spam</td>\n",
              "      <td>Free entry in 2 a wkly comp to win FA Cup fina...</td>\n",
              "    </tr>\n",
              "    <tr>\n",
              "      <th>3</th>\n",
              "      <td>ham</td>\n",
              "      <td>U dun say so early hor... U c already then say...</td>\n",
              "    </tr>\n",
              "    <tr>\n",
              "      <th>4</th>\n",
              "      <td>ham</td>\n",
              "      <td>Nah I don't think he goes to usf, he lives aro...</td>\n",
              "    </tr>\n",
              "  </tbody>\n",
              "</table>\n",
              "</div>\n",
              "    <div class=\"colab-df-buttons\">\n",
              "\n",
              "  <div class=\"colab-df-container\">\n",
              "    <button class=\"colab-df-convert\" onclick=\"convertToInteractive('df-05a07240-706b-41f0-af1b-b4c08e646b02')\"\n",
              "            title=\"Convert this dataframe to an interactive table.\"\n",
              "            style=\"display:none;\">\n",
              "\n",
              "  <svg xmlns=\"http://www.w3.org/2000/svg\" height=\"24px\" viewBox=\"0 -960 960 960\">\n",
              "    <path d=\"M120-120v-720h720v720H120Zm60-500h600v-160H180v160Zm220 220h160v-160H400v160Zm0 220h160v-160H400v160ZM180-400h160v-160H180v160Zm440 0h160v-160H620v160ZM180-180h160v-160H180v160Zm440 0h160v-160H620v160Z\"/>\n",
              "  </svg>\n",
              "    </button>\n",
              "\n",
              "  <style>\n",
              "    .colab-df-container {\n",
              "      display:flex;\n",
              "      gap: 12px;\n",
              "    }\n",
              "\n",
              "    .colab-df-convert {\n",
              "      background-color: #E8F0FE;\n",
              "      border: none;\n",
              "      border-radius: 50%;\n",
              "      cursor: pointer;\n",
              "      display: none;\n",
              "      fill: #1967D2;\n",
              "      height: 32px;\n",
              "      padding: 0 0 0 0;\n",
              "      width: 32px;\n",
              "    }\n",
              "\n",
              "    .colab-df-convert:hover {\n",
              "      background-color: #E2EBFA;\n",
              "      box-shadow: 0px 1px 2px rgba(60, 64, 67, 0.3), 0px 1px 3px 1px rgba(60, 64, 67, 0.15);\n",
              "      fill: #174EA6;\n",
              "    }\n",
              "\n",
              "    .colab-df-buttons div {\n",
              "      margin-bottom: 4px;\n",
              "    }\n",
              "\n",
              "    [theme=dark] .colab-df-convert {\n",
              "      background-color: #3B4455;\n",
              "      fill: #D2E3FC;\n",
              "    }\n",
              "\n",
              "    [theme=dark] .colab-df-convert:hover {\n",
              "      background-color: #434B5C;\n",
              "      box-shadow: 0px 1px 3px 1px rgba(0, 0, 0, 0.15);\n",
              "      filter: drop-shadow(0px 1px 2px rgba(0, 0, 0, 0.3));\n",
              "      fill: #FFFFFF;\n",
              "    }\n",
              "  </style>\n",
              "\n",
              "    <script>\n",
              "      const buttonEl =\n",
              "        document.querySelector('#df-05a07240-706b-41f0-af1b-b4c08e646b02 button.colab-df-convert');\n",
              "      buttonEl.style.display =\n",
              "        google.colab.kernel.accessAllowed ? 'block' : 'none';\n",
              "\n",
              "      async function convertToInteractive(key) {\n",
              "        const element = document.querySelector('#df-05a07240-706b-41f0-af1b-b4c08e646b02');\n",
              "        const dataTable =\n",
              "          await google.colab.kernel.invokeFunction('convertToInteractive',\n",
              "                                                    [key], {});\n",
              "        if (!dataTable) return;\n",
              "\n",
              "        const docLinkHtml = 'Like what you see? Visit the ' +\n",
              "          '<a target=\"_blank\" href=https://colab.research.google.com/notebooks/data_table.ipynb>data table notebook</a>'\n",
              "          + ' to learn more about interactive tables.';\n",
              "        element.innerHTML = '';\n",
              "        dataTable['output_type'] = 'display_data';\n",
              "        await google.colab.output.renderOutput(dataTable, element);\n",
              "        const docLink = document.createElement('div');\n",
              "        docLink.innerHTML = docLinkHtml;\n",
              "        element.appendChild(docLink);\n",
              "      }\n",
              "    </script>\n",
              "  </div>\n",
              "\n",
              "\n",
              "<div id=\"df-415a50c5-76fa-44d5-b980-8d1737dbf60e\">\n",
              "  <button class=\"colab-df-quickchart\" onclick=\"quickchart('df-415a50c5-76fa-44d5-b980-8d1737dbf60e')\"\n",
              "            title=\"Suggest charts\"\n",
              "            style=\"display:none;\">\n",
              "\n",
              "<svg xmlns=\"http://www.w3.org/2000/svg\" height=\"24px\"viewBox=\"0 0 24 24\"\n",
              "     width=\"24px\">\n",
              "    <g>\n",
              "        <path d=\"M19 3H5c-1.1 0-2 .9-2 2v14c0 1.1.9 2 2 2h14c1.1 0 2-.9 2-2V5c0-1.1-.9-2-2-2zM9 17H7v-7h2v7zm4 0h-2V7h2v10zm4 0h-2v-4h2v4z\"/>\n",
              "    </g>\n",
              "</svg>\n",
              "  </button>\n",
              "\n",
              "<style>\n",
              "  .colab-df-quickchart {\n",
              "      --bg-color: #E8F0FE;\n",
              "      --fill-color: #1967D2;\n",
              "      --hover-bg-color: #E2EBFA;\n",
              "      --hover-fill-color: #174EA6;\n",
              "      --disabled-fill-color: #AAA;\n",
              "      --disabled-bg-color: #DDD;\n",
              "  }\n",
              "\n",
              "  [theme=dark] .colab-df-quickchart {\n",
              "      --bg-color: #3B4455;\n",
              "      --fill-color: #D2E3FC;\n",
              "      --hover-bg-color: #434B5C;\n",
              "      --hover-fill-color: #FFFFFF;\n",
              "      --disabled-bg-color: #3B4455;\n",
              "      --disabled-fill-color: #666;\n",
              "  }\n",
              "\n",
              "  .colab-df-quickchart {\n",
              "    background-color: var(--bg-color);\n",
              "    border: none;\n",
              "    border-radius: 50%;\n",
              "    cursor: pointer;\n",
              "    display: none;\n",
              "    fill: var(--fill-color);\n",
              "    height: 32px;\n",
              "    padding: 0;\n",
              "    width: 32px;\n",
              "  }\n",
              "\n",
              "  .colab-df-quickchart:hover {\n",
              "    background-color: var(--hover-bg-color);\n",
              "    box-shadow: 0 1px 2px rgba(60, 64, 67, 0.3), 0 1px 3px 1px rgba(60, 64, 67, 0.15);\n",
              "    fill: var(--button-hover-fill-color);\n",
              "  }\n",
              "\n",
              "  .colab-df-quickchart-complete:disabled,\n",
              "  .colab-df-quickchart-complete:disabled:hover {\n",
              "    background-color: var(--disabled-bg-color);\n",
              "    fill: var(--disabled-fill-color);\n",
              "    box-shadow: none;\n",
              "  }\n",
              "\n",
              "  .colab-df-spinner {\n",
              "    border: 2px solid var(--fill-color);\n",
              "    border-color: transparent;\n",
              "    border-bottom-color: var(--fill-color);\n",
              "    animation:\n",
              "      spin 1s steps(1) infinite;\n",
              "  }\n",
              "\n",
              "  @keyframes spin {\n",
              "    0% {\n",
              "      border-color: transparent;\n",
              "      border-bottom-color: var(--fill-color);\n",
              "      border-left-color: var(--fill-color);\n",
              "    }\n",
              "    20% {\n",
              "      border-color: transparent;\n",
              "      border-left-color: var(--fill-color);\n",
              "      border-top-color: var(--fill-color);\n",
              "    }\n",
              "    30% {\n",
              "      border-color: transparent;\n",
              "      border-left-color: var(--fill-color);\n",
              "      border-top-color: var(--fill-color);\n",
              "      border-right-color: var(--fill-color);\n",
              "    }\n",
              "    40% {\n",
              "      border-color: transparent;\n",
              "      border-right-color: var(--fill-color);\n",
              "      border-top-color: var(--fill-color);\n",
              "    }\n",
              "    60% {\n",
              "      border-color: transparent;\n",
              "      border-right-color: var(--fill-color);\n",
              "    }\n",
              "    80% {\n",
              "      border-color: transparent;\n",
              "      border-right-color: var(--fill-color);\n",
              "      border-bottom-color: var(--fill-color);\n",
              "    }\n",
              "    90% {\n",
              "      border-color: transparent;\n",
              "      border-bottom-color: var(--fill-color);\n",
              "    }\n",
              "  }\n",
              "</style>\n",
              "\n",
              "  <script>\n",
              "    async function quickchart(key) {\n",
              "      const quickchartButtonEl =\n",
              "        document.querySelector('#' + key + ' button');\n",
              "      quickchartButtonEl.disabled = true;  // To prevent multiple clicks.\n",
              "      quickchartButtonEl.classList.add('colab-df-spinner');\n",
              "      try {\n",
              "        const charts = await google.colab.kernel.invokeFunction(\n",
              "            'suggestCharts', [key], {});\n",
              "      } catch (error) {\n",
              "        console.error('Error during call to suggestCharts:', error);\n",
              "      }\n",
              "      quickchartButtonEl.classList.remove('colab-df-spinner');\n",
              "      quickchartButtonEl.classList.add('colab-df-quickchart-complete');\n",
              "    }\n",
              "    (() => {\n",
              "      let quickchartButtonEl =\n",
              "        document.querySelector('#df-415a50c5-76fa-44d5-b980-8d1737dbf60e button');\n",
              "      quickchartButtonEl.style.display =\n",
              "        google.colab.kernel.accessAllowed ? 'block' : 'none';\n",
              "    })();\n",
              "  </script>\n",
              "</div>\n",
              "\n",
              "    </div>\n",
              "  </div>\n"
            ],
            "application/vnd.google.colaboratory.intrinsic+json": {
              "type": "dataframe",
              "variable_name": "df1",
              "summary": "{\n  \"name\": \"df1\",\n  \"rows\": 5572,\n  \"fields\": [\n    {\n      \"column\": \"Category\",\n      \"properties\": {\n        \"dtype\": \"category\",\n        \"num_unique_values\": 2,\n        \"samples\": [\n          \"spam\",\n          \"ham\"\n        ],\n        \"semantic_type\": \"\",\n        \"description\": \"\"\n      }\n    },\n    {\n      \"column\": \"Message\",\n      \"properties\": {\n        \"dtype\": \"string\",\n        \"num_unique_values\": 5157,\n        \"samples\": [\n          \"Also sir, i sent you an email about how to log into the usc payment portal. I.ll send you another message that should explain how things are back home. Have a great weekend.\",\n          \"Are you free now?can i call now?\"\n        ],\n        \"semantic_type\": \"\",\n        \"description\": \"\"\n      }\n    }\n  ]\n}"
            }
          },
          "metadata": {},
          "execution_count": 6
        }
      ]
    },
    {
      "cell_type": "code",
      "source": [
        "df1.info()"
      ],
      "metadata": {
        "execution": {
          "iopub.status.busy": "2024-04-01T13:03:16.667873Z",
          "iopub.execute_input": "2024-04-01T13:03:16.668288Z",
          "iopub.status.idle": "2024-04-01T13:03:16.699808Z",
          "shell.execute_reply.started": "2024-04-01T13:03:16.668255Z",
          "shell.execute_reply": "2024-04-01T13:03:16.698485Z"
        },
        "trusted": true,
        "id": "o_wACvg-xTdc",
        "outputId": "672c7b8c-3a92-4f68-ab64-c0f27973fc1e",
        "colab": {
          "base_uri": "https://localhost:8080/"
        }
      },
      "execution_count": 7,
      "outputs": [
        {
          "output_type": "stream",
          "name": "stdout",
          "text": [
            "<class 'pandas.core.frame.DataFrame'>\n",
            "RangeIndex: 5572 entries, 0 to 5571\n",
            "Data columns (total 2 columns):\n",
            " #   Column    Non-Null Count  Dtype \n",
            "---  ------    --------------  ----- \n",
            " 0   Category  5572 non-null   object\n",
            " 1   Message   5572 non-null   object\n",
            "dtypes: object(2)\n",
            "memory usage: 87.2+ KB\n"
          ]
        }
      ]
    },
    {
      "cell_type": "code",
      "source": [
        "df1.groupby(['Category']).describe()"
      ],
      "metadata": {
        "execution": {
          "iopub.status.busy": "2024-04-01T13:03:20.090967Z",
          "iopub.execute_input": "2024-04-01T13:03:20.091372Z",
          "iopub.status.idle": "2024-04-01T13:03:20.131248Z",
          "shell.execute_reply.started": "2024-04-01T13:03:20.091339Z",
          "shell.execute_reply": "2024-04-01T13:03:20.130006Z"
        },
        "trusted": true,
        "id": "bFJtbdk8xTdd",
        "outputId": "0f79523e-9791-41a5-b799-f45f48b61981",
        "colab": {
          "base_uri": "https://localhost:8080/",
          "height": 175
        }
      },
      "execution_count": 8,
      "outputs": [
        {
          "output_type": "execute_result",
          "data": {
            "text/plain": [
              "         Message                                                            \\\n",
              "           count unique                                                top   \n",
              "Category                                                                     \n",
              "ham         4825   4516                             Sorry, I'll call later   \n",
              "spam         747    641  Please call our customer service representativ...   \n",
              "\n",
              "               \n",
              "         freq  \n",
              "Category       \n",
              "ham        30  \n",
              "spam        4  "
            ],
            "text/html": [
              "\n",
              "  <div id=\"df-57ad2576-9298-46a6-856f-9837b4a50485\" class=\"colab-df-container\">\n",
              "    <div>\n",
              "<style scoped>\n",
              "    .dataframe tbody tr th:only-of-type {\n",
              "        vertical-align: middle;\n",
              "    }\n",
              "\n",
              "    .dataframe tbody tr th {\n",
              "        vertical-align: top;\n",
              "    }\n",
              "\n",
              "    .dataframe thead tr th {\n",
              "        text-align: left;\n",
              "    }\n",
              "\n",
              "    .dataframe thead tr:last-of-type th {\n",
              "        text-align: right;\n",
              "    }\n",
              "</style>\n",
              "<table border=\"1\" class=\"dataframe\">\n",
              "  <thead>\n",
              "    <tr>\n",
              "      <th></th>\n",
              "      <th colspan=\"4\" halign=\"left\">Message</th>\n",
              "    </tr>\n",
              "    <tr>\n",
              "      <th></th>\n",
              "      <th>count</th>\n",
              "      <th>unique</th>\n",
              "      <th>top</th>\n",
              "      <th>freq</th>\n",
              "    </tr>\n",
              "    <tr>\n",
              "      <th>Category</th>\n",
              "      <th></th>\n",
              "      <th></th>\n",
              "      <th></th>\n",
              "      <th></th>\n",
              "    </tr>\n",
              "  </thead>\n",
              "  <tbody>\n",
              "    <tr>\n",
              "      <th>ham</th>\n",
              "      <td>4825</td>\n",
              "      <td>4516</td>\n",
              "      <td>Sorry, I'll call later</td>\n",
              "      <td>30</td>\n",
              "    </tr>\n",
              "    <tr>\n",
              "      <th>spam</th>\n",
              "      <td>747</td>\n",
              "      <td>641</td>\n",
              "      <td>Please call our customer service representativ...</td>\n",
              "      <td>4</td>\n",
              "    </tr>\n",
              "  </tbody>\n",
              "</table>\n",
              "</div>\n",
              "    <div class=\"colab-df-buttons\">\n",
              "\n",
              "  <div class=\"colab-df-container\">\n",
              "    <button class=\"colab-df-convert\" onclick=\"convertToInteractive('df-57ad2576-9298-46a6-856f-9837b4a50485')\"\n",
              "            title=\"Convert this dataframe to an interactive table.\"\n",
              "            style=\"display:none;\">\n",
              "\n",
              "  <svg xmlns=\"http://www.w3.org/2000/svg\" height=\"24px\" viewBox=\"0 -960 960 960\">\n",
              "    <path d=\"M120-120v-720h720v720H120Zm60-500h600v-160H180v160Zm220 220h160v-160H400v160Zm0 220h160v-160H400v160ZM180-400h160v-160H180v160Zm440 0h160v-160H620v160ZM180-180h160v-160H180v160Zm440 0h160v-160H620v160Z\"/>\n",
              "  </svg>\n",
              "    </button>\n",
              "\n",
              "  <style>\n",
              "    .colab-df-container {\n",
              "      display:flex;\n",
              "      gap: 12px;\n",
              "    }\n",
              "\n",
              "    .colab-df-convert {\n",
              "      background-color: #E8F0FE;\n",
              "      border: none;\n",
              "      border-radius: 50%;\n",
              "      cursor: pointer;\n",
              "      display: none;\n",
              "      fill: #1967D2;\n",
              "      height: 32px;\n",
              "      padding: 0 0 0 0;\n",
              "      width: 32px;\n",
              "    }\n",
              "\n",
              "    .colab-df-convert:hover {\n",
              "      background-color: #E2EBFA;\n",
              "      box-shadow: 0px 1px 2px rgba(60, 64, 67, 0.3), 0px 1px 3px 1px rgba(60, 64, 67, 0.15);\n",
              "      fill: #174EA6;\n",
              "    }\n",
              "\n",
              "    .colab-df-buttons div {\n",
              "      margin-bottom: 4px;\n",
              "    }\n",
              "\n",
              "    [theme=dark] .colab-df-convert {\n",
              "      background-color: #3B4455;\n",
              "      fill: #D2E3FC;\n",
              "    }\n",
              "\n",
              "    [theme=dark] .colab-df-convert:hover {\n",
              "      background-color: #434B5C;\n",
              "      box-shadow: 0px 1px 3px 1px rgba(0, 0, 0, 0.15);\n",
              "      filter: drop-shadow(0px 1px 2px rgba(0, 0, 0, 0.3));\n",
              "      fill: #FFFFFF;\n",
              "    }\n",
              "  </style>\n",
              "\n",
              "    <script>\n",
              "      const buttonEl =\n",
              "        document.querySelector('#df-57ad2576-9298-46a6-856f-9837b4a50485 button.colab-df-convert');\n",
              "      buttonEl.style.display =\n",
              "        google.colab.kernel.accessAllowed ? 'block' : 'none';\n",
              "\n",
              "      async function convertToInteractive(key) {\n",
              "        const element = document.querySelector('#df-57ad2576-9298-46a6-856f-9837b4a50485');\n",
              "        const dataTable =\n",
              "          await google.colab.kernel.invokeFunction('convertToInteractive',\n",
              "                                                    [key], {});\n",
              "        if (!dataTable) return;\n",
              "\n",
              "        const docLinkHtml = 'Like what you see? Visit the ' +\n",
              "          '<a target=\"_blank\" href=https://colab.research.google.com/notebooks/data_table.ipynb>data table notebook</a>'\n",
              "          + ' to learn more about interactive tables.';\n",
              "        element.innerHTML = '';\n",
              "        dataTable['output_type'] = 'display_data';\n",
              "        await google.colab.output.renderOutput(dataTable, element);\n",
              "        const docLink = document.createElement('div');\n",
              "        docLink.innerHTML = docLinkHtml;\n",
              "        element.appendChild(docLink);\n",
              "      }\n",
              "    </script>\n",
              "  </div>\n",
              "\n",
              "\n",
              "<div id=\"df-e631a686-c05a-4f8e-8a39-955a502e8f82\">\n",
              "  <button class=\"colab-df-quickchart\" onclick=\"quickchart('df-e631a686-c05a-4f8e-8a39-955a502e8f82')\"\n",
              "            title=\"Suggest charts\"\n",
              "            style=\"display:none;\">\n",
              "\n",
              "<svg xmlns=\"http://www.w3.org/2000/svg\" height=\"24px\"viewBox=\"0 0 24 24\"\n",
              "     width=\"24px\">\n",
              "    <g>\n",
              "        <path d=\"M19 3H5c-1.1 0-2 .9-2 2v14c0 1.1.9 2 2 2h14c1.1 0 2-.9 2-2V5c0-1.1-.9-2-2-2zM9 17H7v-7h2v7zm4 0h-2V7h2v10zm4 0h-2v-4h2v4z\"/>\n",
              "    </g>\n",
              "</svg>\n",
              "  </button>\n",
              "\n",
              "<style>\n",
              "  .colab-df-quickchart {\n",
              "      --bg-color: #E8F0FE;\n",
              "      --fill-color: #1967D2;\n",
              "      --hover-bg-color: #E2EBFA;\n",
              "      --hover-fill-color: #174EA6;\n",
              "      --disabled-fill-color: #AAA;\n",
              "      --disabled-bg-color: #DDD;\n",
              "  }\n",
              "\n",
              "  [theme=dark] .colab-df-quickchart {\n",
              "      --bg-color: #3B4455;\n",
              "      --fill-color: #D2E3FC;\n",
              "      --hover-bg-color: #434B5C;\n",
              "      --hover-fill-color: #FFFFFF;\n",
              "      --disabled-bg-color: #3B4455;\n",
              "      --disabled-fill-color: #666;\n",
              "  }\n",
              "\n",
              "  .colab-df-quickchart {\n",
              "    background-color: var(--bg-color);\n",
              "    border: none;\n",
              "    border-radius: 50%;\n",
              "    cursor: pointer;\n",
              "    display: none;\n",
              "    fill: var(--fill-color);\n",
              "    height: 32px;\n",
              "    padding: 0;\n",
              "    width: 32px;\n",
              "  }\n",
              "\n",
              "  .colab-df-quickchart:hover {\n",
              "    background-color: var(--hover-bg-color);\n",
              "    box-shadow: 0 1px 2px rgba(60, 64, 67, 0.3), 0 1px 3px 1px rgba(60, 64, 67, 0.15);\n",
              "    fill: var(--button-hover-fill-color);\n",
              "  }\n",
              "\n",
              "  .colab-df-quickchart-complete:disabled,\n",
              "  .colab-df-quickchart-complete:disabled:hover {\n",
              "    background-color: var(--disabled-bg-color);\n",
              "    fill: var(--disabled-fill-color);\n",
              "    box-shadow: none;\n",
              "  }\n",
              "\n",
              "  .colab-df-spinner {\n",
              "    border: 2px solid var(--fill-color);\n",
              "    border-color: transparent;\n",
              "    border-bottom-color: var(--fill-color);\n",
              "    animation:\n",
              "      spin 1s steps(1) infinite;\n",
              "  }\n",
              "\n",
              "  @keyframes spin {\n",
              "    0% {\n",
              "      border-color: transparent;\n",
              "      border-bottom-color: var(--fill-color);\n",
              "      border-left-color: var(--fill-color);\n",
              "    }\n",
              "    20% {\n",
              "      border-color: transparent;\n",
              "      border-left-color: var(--fill-color);\n",
              "      border-top-color: var(--fill-color);\n",
              "    }\n",
              "    30% {\n",
              "      border-color: transparent;\n",
              "      border-left-color: var(--fill-color);\n",
              "      border-top-color: var(--fill-color);\n",
              "      border-right-color: var(--fill-color);\n",
              "    }\n",
              "    40% {\n",
              "      border-color: transparent;\n",
              "      border-right-color: var(--fill-color);\n",
              "      border-top-color: var(--fill-color);\n",
              "    }\n",
              "    60% {\n",
              "      border-color: transparent;\n",
              "      border-right-color: var(--fill-color);\n",
              "    }\n",
              "    80% {\n",
              "      border-color: transparent;\n",
              "      border-right-color: var(--fill-color);\n",
              "      border-bottom-color: var(--fill-color);\n",
              "    }\n",
              "    90% {\n",
              "      border-color: transparent;\n",
              "      border-bottom-color: var(--fill-color);\n",
              "    }\n",
              "  }\n",
              "</style>\n",
              "\n",
              "  <script>\n",
              "    async function quickchart(key) {\n",
              "      const quickchartButtonEl =\n",
              "        document.querySelector('#' + key + ' button');\n",
              "      quickchartButtonEl.disabled = true;  // To prevent multiple clicks.\n",
              "      quickchartButtonEl.classList.add('colab-df-spinner');\n",
              "      try {\n",
              "        const charts = await google.colab.kernel.invokeFunction(\n",
              "            'suggestCharts', [key], {});\n",
              "      } catch (error) {\n",
              "        console.error('Error during call to suggestCharts:', error);\n",
              "      }\n",
              "      quickchartButtonEl.classList.remove('colab-df-spinner');\n",
              "      quickchartButtonEl.classList.add('colab-df-quickchart-complete');\n",
              "    }\n",
              "    (() => {\n",
              "      let quickchartButtonEl =\n",
              "        document.querySelector('#df-e631a686-c05a-4f8e-8a39-955a502e8f82 button');\n",
              "      quickchartButtonEl.style.display =\n",
              "        google.colab.kernel.accessAllowed ? 'block' : 'none';\n",
              "    })();\n",
              "  </script>\n",
              "</div>\n",
              "\n",
              "    </div>\n",
              "  </div>\n"
            ],
            "application/vnd.google.colaboratory.intrinsic+json": {
              "type": "dataframe",
              "summary": "{\n  \"name\": \"df1\",\n  \"rows\": 2,\n  \"fields\": [\n    {\n      \"column\": [\n        \"Category\",\n        \"\"\n      ],\n      \"properties\": {\n        \"dtype\": \"string\",\n        \"num_unique_values\": 2,\n        \"samples\": [\n          \"spam\",\n          \"ham\"\n        ],\n        \"semantic_type\": \"\",\n        \"description\": \"\"\n      }\n    },\n    {\n      \"column\": [\n        \"Message\",\n        \"count\"\n      ],\n      \"properties\": {\n        \"dtype\": \"date\",\n        \"min\": \"747\",\n        \"max\": \"4825\",\n        \"num_unique_values\": 2,\n        \"samples\": [\n          \"747\",\n          \"4825\"\n        ],\n        \"semantic_type\": \"\",\n        \"description\": \"\"\n      }\n    },\n    {\n      \"column\": [\n        \"Message\",\n        \"unique\"\n      ],\n      \"properties\": {\n        \"dtype\": \"date\",\n        \"min\": 641,\n        \"max\": 4516,\n        \"num_unique_values\": 2,\n        \"samples\": [\n          641,\n          4516\n        ],\n        \"semantic_type\": \"\",\n        \"description\": \"\"\n      }\n    },\n    {\n      \"column\": [\n        \"Message\",\n        \"top\"\n      ],\n      \"properties\": {\n        \"dtype\": \"string\",\n        \"num_unique_values\": 2,\n        \"samples\": [\n          \"Please call our customer service representative on FREEPHONE 0808 145 4742 between 9am-11pm as you have WON a guaranteed \\u00a31000 cash or \\u00a35000 prize!\",\n          \"Sorry, I'll call later\"\n        ],\n        \"semantic_type\": \"\",\n        \"description\": \"\"\n      }\n    },\n    {\n      \"column\": [\n        \"Message\",\n        \"freq\"\n      ],\n      \"properties\": {\n        \"dtype\": \"date\",\n        \"min\": \"4\",\n        \"max\": \"30\",\n        \"num_unique_values\": 2,\n        \"samples\": [\n          \"4\",\n          \"30\"\n        ],\n        \"semantic_type\": \"\",\n        \"description\": \"\"\n      }\n    }\n  ]\n}"
            }
          },
          "metadata": {},
          "execution_count": 8
        }
      ]
    },
    {
      "cell_type": "code",
      "source": [
        "df1.isnull().sum()"
      ],
      "metadata": {
        "execution": {
          "iopub.status.busy": "2024-04-01T13:03:23.836409Z",
          "iopub.execute_input": "2024-04-01T13:03:23.836812Z",
          "iopub.status.idle": "2024-04-01T13:03:23.847806Z",
          "shell.execute_reply.started": "2024-04-01T13:03:23.83678Z",
          "shell.execute_reply": "2024-04-01T13:03:23.846311Z"
        },
        "trusted": true,
        "id": "OH-xhUyqxTdd",
        "outputId": "9a09dc1d-d997-4ae2-bb43-97294cb735b5",
        "colab": {
          "base_uri": "https://localhost:8080/"
        }
      },
      "execution_count": 9,
      "outputs": [
        {
          "output_type": "execute_result",
          "data": {
            "text/plain": [
              "Category    0\n",
              "Message     0\n",
              "dtype: int64"
            ]
          },
          "metadata": {},
          "execution_count": 9
        }
      ]
    },
    {
      "cell_type": "code",
      "source": [
        "#Since the database is big (5572) we are creating a subset database of 2700\n",
        "df_ham = df1[df1[\"Category\"]==\"ham\"][:2000]\n",
        "df_spam = df1[df1[\"Category\"]==\"spam\"][:700]\n",
        "messeges = pd.concat([df_ham, df_spam])"
      ],
      "metadata": {
        "execution": {
          "iopub.status.busy": "2024-04-01T13:03:31.221006Z",
          "iopub.execute_input": "2024-04-01T13:03:31.221454Z",
          "iopub.status.idle": "2024-04-01T13:03:31.234489Z",
          "shell.execute_reply.started": "2024-04-01T13:03:31.221418Z",
          "shell.execute_reply": "2024-04-01T13:03:31.233081Z"
        },
        "trusted": true,
        "id": "aY7wfQNOxTdd"
      },
      "execution_count": 10,
      "outputs": []
    },
    {
      "cell_type": "code",
      "source": [
        "messeges.shape"
      ],
      "metadata": {
        "execution": {
          "iopub.status.busy": "2024-04-01T13:03:34.225825Z",
          "iopub.execute_input": "2024-04-01T13:03:34.226295Z",
          "iopub.status.idle": "2024-04-01T13:03:34.233619Z",
          "shell.execute_reply.started": "2024-04-01T13:03:34.226262Z",
          "shell.execute_reply": "2024-04-01T13:03:34.232289Z"
        },
        "trusted": true,
        "colab": {
          "base_uri": "https://localhost:8080/"
        },
        "id": "k2O8L4g0xTde",
        "outputId": "c2ce0908-805d-4a5d-e74c-97cfd63a107d"
      },
      "execution_count": 11,
      "outputs": [
        {
          "output_type": "execute_result",
          "data": {
            "text/plain": [
              "(2700, 2)"
            ]
          },
          "metadata": {},
          "execution_count": 11
        }
      ]
    },
    {
      "cell_type": "code",
      "source": [
        "## cleaning the text\n",
        "\n",
        "def cleantext(text):\n",
        "\n",
        "    # removing the \"\\\"\n",
        "\n",
        "    text = re.sub(\"'\\''\",\"\",text)\n",
        "\n",
        "    # removing special symbols\n",
        "\n",
        "    text = re.sub(\"[^a-zA-Z]\",\" \",text)\n",
        "\n",
        "    # removing the whitespaces\n",
        "\n",
        "    text = ' '.join(text.split())\n",
        "\n",
        "    # convert text to lowercase\n",
        "\n",
        "    text = text.lower()\n",
        "\n",
        "    return text\n",
        "\n",
        "\n",
        "\n",
        "messeges['Message'] = messeges['Message'].apply(lambda x:cleantext(x))\n",
        "messeges['Message'].iloc[1]"
      ],
      "metadata": {
        "execution": {
          "iopub.status.busy": "2024-04-01T13:03:43.651394Z",
          "iopub.execute_input": "2024-04-01T13:03:43.651771Z",
          "iopub.status.idle": "2024-04-01T13:03:43.698638Z",
          "shell.execute_reply.started": "2024-04-01T13:03:43.651741Z",
          "shell.execute_reply": "2024-04-01T13:03:43.697374Z"
        },
        "trusted": true,
        "colab": {
          "base_uri": "https://localhost:8080/",
          "height": 36
        },
        "id": "LfoFz9IyxTde",
        "outputId": "94a0ae4b-373e-481d-c7a7-b67fec8df177"
      },
      "execution_count": 12,
      "outputs": [
        {
          "output_type": "execute_result",
          "data": {
            "text/plain": [
              "'ok lar joking wif u oni'"
            ],
            "application/vnd.google.colaboratory.intrinsic+json": {
              "type": "string"
            }
          },
          "metadata": {},
          "execution_count": 12
        }
      ]
    },
    {
      "cell_type": "code",
      "source": [
        "!python -m nltk.downloader stopwords"
      ],
      "metadata": {
        "colab": {
          "base_uri": "https://localhost:8080/"
        },
        "id": "zTNXxRozx7UV",
        "outputId": "a86dccdc-7df4-483f-a398-04717d948a11"
      },
      "execution_count": 13,
      "outputs": [
        {
          "output_type": "stream",
          "name": "stdout",
          "text": [
            "/usr/lib/python3.10/runpy.py:126: RuntimeWarning: 'nltk.downloader' found in sys.modules after import of package 'nltk', but prior to execution of 'nltk.downloader'; this may result in unpredictable behaviour\n",
            "  warn(RuntimeWarning(msg))\n",
            "[nltk_data] Downloading package stopwords to /root/nltk_data...\n",
            "[nltk_data]   Unzipping corpora/stopwords.zip.\n"
          ]
        }
      ]
    },
    {
      "cell_type": "code",
      "source": [
        "# Install the stopwords corpus if it is not already installed\n",
        "!python -m nltk.downloader stopwords\n",
        "\n",
        "# Import the stopwords module\n",
        "from nltk.corpus import stopwords\n",
        "\n",
        "# Get a list of English stopwords\n",
        "stopwords_list = stopwords.words('english')\n",
        "\n",
        "# Print the list of stopwords\n",
        "print(\", \".join(stopwords_list))"
      ],
      "metadata": {
        "colab": {
          "base_uri": "https://localhost:8080/"
        },
        "id": "CrbOK8I4x9tB",
        "outputId": "d18f2ae8-3f16-49d5-d027-d78f59aee6a8"
      },
      "execution_count": 14,
      "outputs": [
        {
          "output_type": "stream",
          "name": "stdout",
          "text": [
            "/usr/lib/python3.10/runpy.py:126: RuntimeWarning: 'nltk.downloader' found in sys.modules after import of package 'nltk', but prior to execution of 'nltk.downloader'; this may result in unpredictable behaviour\n",
            "  warn(RuntimeWarning(msg))\n",
            "[nltk_data] Downloading package stopwords to /root/nltk_data...\n",
            "[nltk_data]   Package stopwords is already up-to-date!\n",
            "i, me, my, myself, we, our, ours, ourselves, you, you're, you've, you'll, you'd, your, yours, yourself, yourselves, he, him, his, himself, she, she's, her, hers, herself, it, it's, its, itself, they, them, their, theirs, themselves, what, which, who, whom, this, that, that'll, these, those, am, is, are, was, were, be, been, being, have, has, had, having, do, does, did, doing, a, an, the, and, but, if, or, because, as, until, while, of, at, by, for, with, about, against, between, into, through, during, before, after, above, below, to, from, up, down, in, out, on, off, over, under, again, further, then, once, here, there, when, where, why, how, all, any, both, each, few, more, most, other, some, such, no, nor, not, only, own, same, so, than, too, very, s, t, can, will, just, don, don't, should, should've, now, d, ll, m, o, re, ve, y, ain, aren, aren't, couldn, couldn't, didn, didn't, doesn, doesn't, hadn, hadn't, hasn, hasn't, haven, haven't, isn, isn't, ma, mightn, mightn't, mustn, mustn't, needn, needn't, shan, shan't, shouldn, shouldn't, wasn, wasn't, weren, weren't, won, won't, wouldn, wouldn't\n"
          ]
        }
      ]
    },
    {
      "cell_type": "code",
      "source": [
        "from nltk.corpus import stopwords\n",
        "\", \".join(stopwords.words('english'))"
      ],
      "metadata": {
        "execution": {
          "iopub.status.busy": "2024-04-01T13:03:48.745799Z",
          "iopub.execute_input": "2024-04-01T13:03:48.746195Z",
          "iopub.status.idle": "2024-04-01T13:03:48.759796Z",
          "shell.execute_reply.started": "2024-04-01T13:03:48.746164Z",
          "shell.execute_reply": "2024-04-01T13:03:48.758551Z"
        },
        "trusted": true,
        "colab": {
          "base_uri": "https://localhost:8080/",
          "height": 127
        },
        "id": "UwROj4C1xTdf",
        "outputId": "44d158a1-70af-4573-ef3b-8f5541f8839b"
      },
      "execution_count": 15,
      "outputs": [
        {
          "output_type": "execute_result",
          "data": {
            "text/plain": [
              "\"i, me, my, myself, we, our, ours, ourselves, you, you're, you've, you'll, you'd, your, yours, yourself, yourselves, he, him, his, himself, she, she's, her, hers, herself, it, it's, its, itself, they, them, their, theirs, themselves, what, which, who, whom, this, that, that'll, these, those, am, is, are, was, were, be, been, being, have, has, had, having, do, does, did, doing, a, an, the, and, but, if, or, because, as, until, while, of, at, by, for, with, about, against, between, into, through, during, before, after, above, below, to, from, up, down, in, out, on, off, over, under, again, further, then, once, here, there, when, where, why, how, all, any, both, each, few, more, most, other, some, such, no, nor, not, only, own, same, so, than, too, very, s, t, can, will, just, don, don't, should, should've, now, d, ll, m, o, re, ve, y, ain, aren, aren't, couldn, couldn't, didn, didn't, doesn, doesn't, hadn, hadn't, hasn, hasn't, haven, haven't, isn, isn't, ma, mightn, mightn't, mustn, mustn't, needn, needn't, shan, shan't, shouldn, shouldn't, wasn, wasn't, weren, weren't, won, won't, wouldn, wouldn't\""
            ],
            "application/vnd.google.colaboratory.intrinsic+json": {
              "type": "string"
            }
          },
          "metadata": {},
          "execution_count": 15
        }
      ]
    },
    {
      "cell_type": "code",
      "source": [
        "import nltk\n",
        "nltk.download('stopwords')"
      ],
      "metadata": {
        "execution": {
          "iopub.status.busy": "2024-04-01T13:03:52.110531Z",
          "iopub.execute_input": "2024-04-01T13:03:52.111504Z",
          "iopub.status.idle": "2024-04-01T13:04:12.149795Z",
          "shell.execute_reply.started": "2024-04-01T13:03:52.111461Z",
          "shell.execute_reply": "2024-04-01T13:04:12.148602Z"
        },
        "trusted": true,
        "colab": {
          "base_uri": "https://localhost:8080/"
        },
        "id": "jxCfwHXpxTdf",
        "outputId": "74860eee-1de0-40e1-a23e-f52293d04189"
      },
      "execution_count": 16,
      "outputs": [
        {
          "output_type": "stream",
          "name": "stderr",
          "text": [
            "[nltk_data] Downloading package stopwords to /root/nltk_data...\n",
            "[nltk_data]   Package stopwords is already up-to-date!\n"
          ]
        },
        {
          "output_type": "execute_result",
          "data": {
            "text/plain": [
              "True"
            ]
          },
          "metadata": {},
          "execution_count": 16
        }
      ]
    },
    {
      "cell_type": "code",
      "source": [
        "\n",
        "def removestopwords(text):\n",
        "\n",
        "    removedstopword = [word for word in text.split() if word not in stopwords_list]\n",
        "    return ' '.join(removedstopword)\n",
        "\n",
        "messeges['Message'] = messeges['Message'].apply(lambda x:removestopwords(x))\n",
        "messeges['Message'].iloc[1]\n"
      ],
      "metadata": {
        "execution": {
          "iopub.status.busy": "2024-04-01T13:05:06.752738Z",
          "iopub.execute_input": "2024-04-01T13:05:06.753181Z",
          "iopub.status.idle": "2024-04-01T13:05:26.810898Z",
          "shell.execute_reply.started": "2024-04-01T13:05:06.753147Z",
          "shell.execute_reply": "2024-04-01T13:05:26.809855Z"
        },
        "trusted": true,
        "colab": {
          "base_uri": "https://localhost:8080/",
          "height": 36
        },
        "id": "sLmhNulMxTdf",
        "outputId": "5125d0ec-2a54-4290-dcee-93b76d530531"
      },
      "execution_count": 17,
      "outputs": [
        {
          "output_type": "execute_result",
          "data": {
            "text/plain": [
              "'ok lar joking wif u oni'"
            ],
            "application/vnd.google.colaboratory.intrinsic+json": {
              "type": "string"
            }
          },
          "metadata": {},
          "execution_count": 17
        }
      ]
    },
    {
      "cell_type": "code",
      "source": [
        "def remove_special_characters(text, remove_digits=True):\n",
        "    pattern=r'[^a-zA-z0-9\\s]'\n",
        "    text=re.sub(pattern,'',text)\n",
        "    return text\n",
        "\n",
        "#Removing numbers\n",
        "def remove_numbers(text):\n",
        "    pattern = r'\\d+'\n",
        "    text = re.sub(pattern, '', text)\n",
        "    return text"
      ],
      "metadata": {
        "id": "A8WYhq32xTdg"
      },
      "execution_count": 18,
      "outputs": []
    },
    {
      "cell_type": "code",
      "source": [
        "messeges['Message']=messeges['Message'].apply(remove_special_characters)\n",
        "messeges['Message']=messeges['Message'].apply(remove_numbers)"
      ],
      "metadata": {
        "id": "BVNPKFFexTdg"
      },
      "execution_count": 19,
      "outputs": []
    },
    {
      "cell_type": "code",
      "source": [
        "nltk.download('wordnet')"
      ],
      "metadata": {
        "colab": {
          "base_uri": "https://localhost:8080/"
        },
        "id": "M5CIT4sYxTdg",
        "outputId": "8dbcf658-d06b-45a3-cbda-167abb42fdfe"
      },
      "execution_count": 20,
      "outputs": [
        {
          "output_type": "stream",
          "name": "stderr",
          "text": [
            "[nltk_data] Downloading package wordnet to /root/nltk_data...\n"
          ]
        },
        {
          "output_type": "execute_result",
          "data": {
            "text/plain": [
              "True"
            ]
          },
          "metadata": {},
          "execution_count": 20
        }
      ]
    },
    {
      "cell_type": "code",
      "source": [
        "!unzip /usr/share/nltk_data/corpora/wordnet.zip -d /usr/share/nltk_data/corpora/\n"
      ],
      "metadata": {
        "colab": {
          "base_uri": "https://localhost:8080/"
        },
        "id": "8V7DyQIXzZw7",
        "outputId": "9f97dbc1-a68e-4a06-b6b7-b7c1df72b41f"
      },
      "execution_count": 21,
      "outputs": [
        {
          "output_type": "stream",
          "name": "stdout",
          "text": [
            "unzip:  cannot find or open /usr/share/nltk_data/corpora/wordnet.zip, /usr/share/nltk_data/corpora/wordnet.zip.zip or /usr/share/nltk_data/corpora/wordnet.zip.ZIP.\n"
          ]
        }
      ]
    },
    {
      "cell_type": "code",
      "source": [
        "from nltk.stem import WordNetLemmatizer\n",
        "from nltk.stem import WordNetLemmatizer"
      ],
      "metadata": {
        "id": "Yyz5NI612DRZ"
      },
      "execution_count": 22,
      "outputs": []
    },
    {
      "cell_type": "code",
      "source": [
        "#lemmatizing\n",
        "\n",
        "lemma=WordNetLemmatizer()\n",
        "\n",
        "def lematizing(sentence):\n",
        "    stemSentence = \"\"\n",
        "    for word in sentence.split():\n",
        "        stem = lemma.lemmatize(word)\n",
        "        stemSentence += stem\n",
        "        stemSentence += \" \"\n",
        "    stemSentence = stemSentence.strip()\n",
        "    return stemSentence\n",
        "\n",
        "\n",
        "messeges['Message'] = messeges['Message'].apply(lambda x: lematizing(x))\n",
        "messeges['Message'].iloc[1]"
      ],
      "metadata": {
        "colab": {
          "base_uri": "https://localhost:8080/",
          "height": 36
        },
        "id": "I1Pzt3-42HfV",
        "outputId": "6b399599-64f1-4933-b8f1-cf4c5671aad8"
      },
      "execution_count": 23,
      "outputs": [
        {
          "output_type": "execute_result",
          "data": {
            "text/plain": [
              "'ok lar joking wif u oni'"
            ],
            "application/vnd.google.colaboratory.intrinsic+json": {
              "type": "string"
            }
          },
          "metadata": {},
          "execution_count": 23
        }
      ]
    },
    {
      "cell_type": "code",
      "source": [
        "#stemming\n",
        "\n",
        "# Approach\n",
        "\n",
        "from nltk.stem import PorterStemmer\n",
        "stemmer = PorterStemmer()\n",
        "\n",
        "def stemming(sentence):\n",
        "\n",
        "    stemmed_sentence = \"\"\n",
        "    for word in sentence.split():\n",
        "        stem = stemmer.stem(word)\n",
        "        stemmed_sentence+=stem\n",
        "        stemmed_sentence+=\" \"\n",
        "\n",
        "    stemmed_sentence = stemmed_sentence.strip()\n",
        "    return stemmed_sentence\n",
        "\n",
        "messeges['Message'] = messeges['Message'].apply(lambda text:stemming(text))\n",
        "messeges['Message'].iloc[1]"
      ],
      "metadata": {
        "colab": {
          "base_uri": "https://localhost:8080/",
          "height": 36
        },
        "id": "nPLlmVxn2v5y",
        "outputId": "c861d5a1-6a11-4bfe-bf8f-ad76687dfc6e"
      },
      "execution_count": 24,
      "outputs": [
        {
          "output_type": "execute_result",
          "data": {
            "text/plain": [
              "'ok lar joke wif u oni'"
            ],
            "application/vnd.google.colaboratory.intrinsic+json": {
              "type": "string"
            }
          },
          "metadata": {},
          "execution_count": 24
        }
      ]
    },
    {
      "cell_type": "code",
      "source": [
        "# visualising frewords\n",
        "\n",
        "def showmostfrequentwords(text,no_of_words):\n",
        "\n",
        "    allwords = ' '.join([char for char in text])\n",
        "    allwords = allwords.split()\n",
        "    fdist = nltk.FreqDist(allwords)\n",
        "\n",
        "    wordsdf = pd.DataFrame({'word':list(fdist.keys()),'count':list(fdist.values())})\n",
        "\n",
        "    df = wordsdf.nlargest(columns=\"count\",n = no_of_words)\n",
        "\n",
        "    plt.figure(figsize=(7,5))\n",
        "    ax = sn.barplot(data=df,x = 'count',y = 'word')\n",
        "    ax.set(ylabel = 'Word')\n",
        "    plt.show()\n",
        "\n",
        "    return wordsdf\n",
        "\n",
        "\n",
        "# 25 most frequent words\n",
        "\n",
        "\n",
        "freq_df = showmostfrequentwords(messeges['Message'],25)\n"
      ],
      "metadata": {
        "colab": {
          "base_uri": "https://localhost:8080/",
          "height": 465
        },
        "id": "ZezmtjZY3EMh",
        "outputId": "b69c5baa-7426-4c17-f72c-1bfe35b8fb61"
      },
      "execution_count": 25,
      "outputs": [
        {
          "output_type": "display_data",
          "data": {
            "text/plain": [
              "<Figure size 700x500 with 1 Axes>"
            ],
            "image/png": "[encoded data removed]"
          },
          "metadata": {}
        }
      ]
    },
    {
      "cell_type": "code",
      "source": [
        "y = np.array(messeges['Category'].map({'ham': 1, 'spam': 0}))"
      ],
      "metadata": {
        "id": "v_xffj623R7N"
      },
      "execution_count": 26,
      "outputs": []
    },
    {
      "cell_type": "markdown",
      "source": [
        "# **VECTORIZATION**"
      ],
      "metadata": {
        "id": "SjVCPxX0LDRI"
      }
    },
    {
      "cell_type": "markdown",
      "source": [
        "# **bag of word**"
      ],
      "metadata": {
        "id": "Nu34vHCvPc_Q"
      }
    },
    {
      "cell_type": "code",
      "source": [
        "## count vectorizer\n",
        "import time\n",
        "def vectorize_text():\n",
        "    count_vec = CountVectorizer(max_df=0.90,min_df=2,\n",
        "                           max_features=10000 )\n",
        "\n",
        "    bagofword_vec = count_vec.fit_transform(messeges['Message'])\n",
        "start_time = time.perf_counter()\n",
        "# Perform vectorization\n",
        "vector = vectorize_text()\n",
        "\n",
        "# End time measurement\n",
        "end_time = time.perf_counter()\n",
        "\n",
        "# Calculate elapsed time\n",
        "elapsed_time = end_time - start_time\n",
        "print(f\"Computational time for vectorization: {elapsed_time:.4f} seconds\")\n",
        "\n",
        "bagofword_vec"
      ],
      "metadata": {
        "colab": {
          "base_uri": "https://localhost:8080/"
        },
        "id": "8A3v_oYjVvL_",
        "outputId": "b8b95509-9397-4a09-81d2-d9112f892d87"
      },
      "execution_count": 53,
      "outputs": [
        {
          "output_type": "stream",
          "name": "stdout",
          "text": [
            "Computational time for vectorization: 0.2310 seconds\n"
          ]
        },
        {
          "output_type": "execute_result",
          "data": {
            "text/plain": [
              "<2700x1000 sparse matrix of type '<class 'numpy.int64'>'\n",
              "\twith 16742 stored elements in Compressed Sparse Row format>"
            ]
          },
          "metadata": {},
          "execution_count": 53
        }
      ]
    },
    {
      "cell_type": "code",
      "source": [
        "## count vectorizer\n",
        "\n",
        "count_vec = CountVectorizer(max_df=0.90,min_df=2,\n",
        "                           max_features=1000,stop_words='english')\n",
        "\n",
        "bagofword_vec = count_vec.fit_transform(messeges['Message'])\n",
        "bagofword_vec"
      ],
      "metadata": {
        "colab": {
          "base_uri": "https://localhost:8080/"
        },
        "id": "iKdZQJKD4HE3",
        "outputId": "8dd5f32c-77d8-4be4-f944-847b08a8c855"
      },
      "execution_count": 31,
      "outputs": [
        {
          "output_type": "execute_result",
          "data": {
            "text/plain": [
              "<2700x1000 sparse matrix of type '<class 'numpy.int64'>'\n",
              "\twith 16742 stored elements in Compressed Sparse Row format>"
            ]
          },
          "metadata": {},
          "execution_count": 31
        }
      ]
    },
    {
      "cell_type": "code",
      "source": [
        "X_train, X_test, y_train, y_test = train_test_split(bagofword_vec,y,\n",
        "                                                    test_size=0.2)\n",
        "X_train.shape,X_test.shape"
      ],
      "metadata": {
        "colab": {
          "base_uri": "https://localhost:8080/"
        },
        "id": "1GTS1e_R4Pne",
        "outputId": "c5633fc4-22df-48e6-8b4f-0986b2f375fc"
      },
      "execution_count": 32,
      "outputs": [
        {
          "output_type": "execute_result",
          "data": {
            "text/plain": [
              "((2160, 1000), (540, 1000))"
            ]
          },
          "metadata": {},
          "execution_count": 32
        }
      ]
    },
    {
      "cell_type": "markdown",
      "source": [
        "# **SVC**"
      ],
      "metadata": {
        "id": "tG4zZHoGOlAc"
      }
    },
    {
      "cell_type": "code",
      "source": [
        "from sklearn import metrics\n",
        "from sklearn.svm import SVC\n",
        "\n",
        "\n",
        "# Train the SVC model\n",
        "svc = SVC()\n",
        "svc.fit(X_train, y_train)\n",
        "\n",
        "# Make predictions on the test set\n",
        "svccpred = svc.predict(X_test)\n",
        "\n",
        "# Calculate accuracy on the training and test sets\n",
        "train_accuracy = svc.score(X_train, y_train)\n",
        "test_accuracy = svc.score(X_test, y_test)\n",
        "\n",
        "# Print the accuracy scores\n",
        "print('Accuracy on training data: {:,.3f}'.format(train_accuracy))\n",
        "print('Accuracy on test data: {:,.3f}'.format(test_accuracy))"
      ],
      "metadata": {
        "colab": {
          "base_uri": "https://localhost:8080/"
        },
        "id": "bUE7cBQl4sfP",
        "outputId": "6352b197-ec8f-4b34-e3cf-a220e9bc4066"
      },
      "execution_count": 33,
      "outputs": [
        {
          "output_type": "stream",
          "name": "stdout",
          "text": [
            "Accuracy on training data: 0.989\n",
            "Accuracy on test data: 0.956\n"
          ]
        }
      ]
    },
    {
      "cell_type": "code",
      "source": [
        "from sklearn.metrics import confusion_matrix\n",
        "from sklearn.metrics import classification_report\n",
        "\n",
        "# Print the confusion matrix\n",
        "print(confusion_matrix(y_test, svccpred))\n",
        "print(classification_report(y_test, svccpred))"
      ],
      "metadata": {
        "colab": {
          "base_uri": "https://localhost:8080/"
        },
        "id": "hnoKAZFWMa8L",
        "outputId": "59a92a90-fe14-4b38-c9d4-8dcdd37da552"
      },
      "execution_count": 34,
      "outputs": [
        {
          "output_type": "stream",
          "name": "stdout",
          "text": [
            "[[133  21]\n",
            " [  3 383]]\n",
            "              precision    recall  f1-score   support\n",
            "\n",
            "           0       0.98      0.86      0.92       154\n",
            "           1       0.95      0.99      0.97       386\n",
            "\n",
            "    accuracy                           0.96       540\n",
            "   macro avg       0.96      0.93      0.94       540\n",
            "weighted avg       0.96      0.96      0.95       540\n",
            "\n"
          ]
        }
      ]
    },
    {
      "cell_type": "markdown",
      "source": [
        "# ***MULTINOMIALNB***"
      ],
      "metadata": {
        "id": "N5qaMoupPjIO"
      }
    },
    {
      "cell_type": "code",
      "source": [
        "mb = MultinomialNB()\n",
        "mb.fit(X_train,y_train)\n",
        "mbpred = mb.predict(X_test)\n",
        "print(metrics.accuracy_score(y_test,mbpred))\n",
        "print('Accuracy on training data: {:,.3f}'.format(mb.score (X_train, y_train)))\n",
        "\n",
        "print('Accuracy on test data: {:,.3f}'.format(mb.score (X_test, y_test)))"
      ],
      "metadata": {
        "colab": {
          "base_uri": "https://localhost:8080/"
        },
        "id": "XtT4feA15EdU",
        "outputId": "6f5b3ae7-c88c-4292-a908-f1c70b1f98c4"
      },
      "execution_count": 35,
      "outputs": [
        {
          "output_type": "stream",
          "name": "stdout",
          "text": [
            "0.95\n",
            "Accuracy on training data: 0.978\n",
            "Accuracy on test data: 0.950\n"
          ]
        }
      ]
    },
    {
      "cell_type": "code",
      "source": [
        "from sklearn.metrics import confusion_matrix\n",
        "from sklearn.metrics import classification_report\n",
        "\n",
        "# Print the confusion matrix\n",
        "print(confusion_matrix(y_test, mbpred))\n",
        "print(classification_report(y_test, mbpred))"
      ],
      "metadata": {
        "colab": {
          "base_uri": "https://localhost:8080/"
        },
        "id": "iIsu_mkvNzYO",
        "outputId": "31868604-6025-49f4-c706-1eb28be8c009"
      },
      "execution_count": 36,
      "outputs": [
        {
          "output_type": "stream",
          "name": "stdout",
          "text": [
            "[[143  11]\n",
            " [ 16 370]]\n",
            "              precision    recall  f1-score   support\n",
            "\n",
            "           0       0.90      0.93      0.91       154\n",
            "           1       0.97      0.96      0.96       386\n",
            "\n",
            "    accuracy                           0.95       540\n",
            "   macro avg       0.94      0.94      0.94       540\n",
            "weighted avg       0.95      0.95      0.95       540\n",
            "\n"
          ]
        }
      ]
    },
    {
      "cell_type": "markdown",
      "source": [
        "# **LOGISTIC REGRESSION**"
      ],
      "metadata": {
        "id": "eUtQIKwdPuZW"
      }
    },
    {
      "cell_type": "code",
      "source": [
        "from sklearn.linear_model import LogisticRegression\n",
        "from sklearn import metrics\n",
        "\n",
        "# Define the LogisticRegression model\n",
        "log_reg = LogisticRegression()\n",
        "\n",
        "# Fit the model on the training data\n",
        "log_reg.fit(X_train, y_train)\n",
        "\n",
        "# Make predictions on the test data\n",
        "model4_pred = log_reg.predict(X_test)\n",
        "\n",
        "# Evaluate the accuracy of the model\n",
        "print(metrics.accuracy_score(y_test, model4_pred))\n",
        "\n",
        "print('Accuracy on training data: {:,.3f}'.format(log_reg.score (X_train, y_train)))\n",
        "\n",
        "print('Accuracy on test data: {:,.3f}'.format(log_reg.score (X_test, y_test)))"
      ],
      "metadata": {
        "colab": {
          "base_uri": "https://localhost:8080/"
        },
        "id": "veLExoTr5XoS",
        "outputId": "1aa62503-684b-43d8-e612-2186dd728111"
      },
      "execution_count": 37,
      "outputs": [
        {
          "output_type": "stream",
          "name": "stdout",
          "text": [
            "0.9648148148148148\n",
            "Accuracy on training data: 0.988\n",
            "Accuracy on test data: 0.965\n"
          ]
        }
      ]
    },
    {
      "cell_type": "code",
      "source": [
        "from sklearn.metrics import confusion_matrix\n",
        "from sklearn.metrics import classification_report\n",
        "\n",
        "# Print the confusion matrix\n",
        "print(confusion_matrix(y_test, model4_pred))\n",
        "print(classification_report(y_test, model4_pred))"
      ],
      "metadata": {
        "colab": {
          "base_uri": "https://localhost:8080/"
        },
        "id": "xQD3pNIJ7eU3",
        "outputId": "24e453ce-581c-4503-a8e9-b5dd075e350f"
      },
      "execution_count": 38,
      "outputs": [
        {
          "output_type": "stream",
          "name": "stdout",
          "text": [
            "[[136  18]\n",
            " [  1 385]]\n",
            "              precision    recall  f1-score   support\n",
            "\n",
            "           0       0.99      0.88      0.93       154\n",
            "           1       0.96      1.00      0.98       386\n",
            "\n",
            "    accuracy                           0.96       540\n",
            "   macro avg       0.97      0.94      0.96       540\n",
            "weighted avg       0.97      0.96      0.96       540\n",
            "\n"
          ]
        }
      ]
    },
    {
      "cell_type": "markdown",
      "source": [
        "# **NAIVE BAYERS**"
      ],
      "metadata": {
        "id": "0IwCvnIrP6hK"
      }
    },
    {
      "cell_type": "code",
      "source": [
        "#Naive Bayes Classifier\n",
        "\n",
        "from sklearn.naive_bayes import GaussianNB\n",
        "\n",
        "gnb= GaussianNB()\n",
        "\n",
        "# Convert X_train to a dense NumPy array\n",
        "X_train_dense = X_train.toarray()\n",
        "\n",
        "# Convert X_test to a dense NumPy array\n",
        "X_test_dense = X_test.toarray()\n",
        "\n",
        "gnb.fit(X_train_dense,y_train)\n",
        "\n",
        "gnbpred = gnb.predict(X_test_dense)\n",
        "\n",
        "print(metrics.accuracy_score(y_test, gnbpred))\n",
        "\n",
        "print('Accuracy on training data: {:,.3f}'.format(gnb.score (X_train_dense, y_train)))\n",
        "\n",
        "print('Accuracy on test data: {:,.3f}'.format(gnb.score (X_test_dense, y_test)))"
      ],
      "metadata": {
        "colab": {
          "base_uri": "https://localhost:8080/"
        },
        "id": "fRJ_UxXsP_Og",
        "outputId": "bca1f608-91c3-48e8-f660-1f2c06fd8114"
      },
      "execution_count": 39,
      "outputs": [
        {
          "output_type": "stream",
          "name": "stdout",
          "text": [
            "0.8\n",
            "Accuracy on training data: 0.817\n",
            "Accuracy on test data: 0.800\n"
          ]
        }
      ]
    },
    {
      "cell_type": "code",
      "source": [
        "from sklearn.metrics import confusion_matrix\n",
        "from sklearn.metrics import classification_report\n",
        "\n",
        "# Print the confusion matrix\n",
        "print(confusion_matrix(y_test, gnbpred))\n",
        "print(classification_report(y_test, gnbpred))"
      ],
      "metadata": {
        "colab": {
          "base_uri": "https://localhost:8080/"
        },
        "id": "2e7aQKEaSaUR",
        "outputId": "5848c6d1-ff8e-427d-a59c-1c0642c1208d"
      },
      "execution_count": 40,
      "outputs": [
        {
          "output_type": "stream",
          "name": "stdout",
          "text": [
            "[[146   8]\n",
            " [100 286]]\n",
            "              precision    recall  f1-score   support\n",
            "\n",
            "           0       0.59      0.95      0.73       154\n",
            "           1       0.97      0.74      0.84       386\n",
            "\n",
            "    accuracy                           0.80       540\n",
            "   macro avg       0.78      0.84      0.79       540\n",
            "weighted avg       0.86      0.80      0.81       540\n",
            "\n"
          ]
        }
      ]
    },
    {
      "cell_type": "markdown",
      "source": [
        "# ** TF-IDF (Term Frequency-Inverse Document Frequency)**"
      ],
      "metadata": {
        "id": "qhGJa4PlS6sv"
      }
    },
    {
      "cell_type": "code",
      "source": [
        "import time\n",
        "def vectorize_text():\n",
        "    tfidf_vectorizer = TfidfVectorizer(max_df=0.90,min_df=2,\n",
        "                           max_features=10000)\n",
        "    tfidf_vec = tfidf_vectorizer.fit_transform(messeges['Message'])\n",
        "\n",
        "start_time = time.perf_counter()\n",
        "# Perform vectorization\n",
        "vector = vectorize_text()\n",
        "\n",
        "# End time measurement\n",
        "end_time = time.perf_counter()\n",
        "\n",
        "# Calculate elapsed time\n",
        "elapsed_time = end_time - start_time\n",
        "print(f\"Computational time for vectorization: {elapsed_time:.4f} seconds\")"
      ],
      "metadata": {
        "colab": {
          "base_uri": "https://localhost:8080/"
        },
        "id": "fygCPQOxWQzz",
        "outputId": "6b34e6c6-0c5d-42f5-9456-8d7e48498a69"
      },
      "execution_count": 41,
      "outputs": [
        {
          "output_type": "stream",
          "name": "stdout",
          "text": [
            "Computational time for vectorization: 0.0493 seconds\n"
          ]
        }
      ]
    },
    {
      "cell_type": "code",
      "source": [
        "from sklearn.feature_extraction.text import TfidfVectorizer\n",
        "\n",
        "tfidf_vec = TfidfVectorizer(max_df=0.90, min_df=2, max_features=1000, stop_words='english')\n",
        "\n",
        "tfidf_matrix = tfidf_vec.fit_transform(messeges['Message'])\n",
        "tfidf_matrix\n"
      ],
      "metadata": {
        "colab": {
          "base_uri": "https://localhost:8080/"
        },
        "id": "y17QQ-AQS6Gx",
        "outputId": "d6c27fea-bfc0-43d1-f070-508407bb3ccf"
      },
      "execution_count": 42,
      "outputs": [
        {
          "output_type": "execute_result",
          "data": {
            "text/plain": [
              "<2700x1000 sparse matrix of type '<class 'numpy.float64'>'\n",
              "\twith 16742 stored elements in Compressed Sparse Row format>"
            ]
          },
          "metadata": {},
          "execution_count": 42
        }
      ]
    },
    {
      "cell_type": "code",
      "source": [
        "X2_train, X2_test, y2_train, y2_test = train_test_split(tfidf_matrix,y,\n",
        "                                                    test_size=0.2)\n",
        "X2_train.shape,X2_test.shape"
      ],
      "metadata": {
        "colab": {
          "base_uri": "https://localhost:8080/"
        },
        "id": "T3NvVYy9TDTl",
        "outputId": "e0a53d22-ec83-4f0a-d8e8-99e8692601c1"
      },
      "execution_count": 43,
      "outputs": [
        {
          "output_type": "execute_result",
          "data": {
            "text/plain": [
              "((2160, 1000), (540, 1000))"
            ]
          },
          "metadata": {},
          "execution_count": 43
        }
      ]
    },
    {
      "cell_type": "markdown",
      "source": [
        "# **SVC**"
      ],
      "metadata": {
        "id": "8XJR0waEwM1C"
      }
    },
    {
      "cell_type": "code",
      "source": [
        "from sklearn import metrics\n",
        "from sklearn.svm import SVC\n",
        "\n",
        "\n",
        "# Train the SVC model\n",
        "svc = SVC()\n",
        "svc.fit(X2_train, y2_train)\n",
        "\n",
        "# Make predictions on the test set\n",
        "svccpred = svc.predict(X2_test)\n",
        "\n",
        "# Calculate accuracy on the training and test sets\n",
        "train_accuracy = svc.score(X2_train, y2_train)\n",
        "test_accuracy = svc.score(X2_test, y2_test)\n",
        "\n",
        "# Print the accuracy scores\n",
        "print('Accuracy on training data: {:,.3f}'.format(train_accuracy))\n",
        "print('Accuracy on test data: {:,.3f}'.format(test_accuracy))"
      ],
      "metadata": {
        "colab": {
          "base_uri": "https://localhost:8080/"
        },
        "id": "GZ1WRQYOTdqA",
        "outputId": "bee994c4-d4bf-450b-9f72-c59bbba779fb"
      },
      "execution_count": 44,
      "outputs": [
        {
          "output_type": "stream",
          "name": "stdout",
          "text": [
            "Accuracy on training data: 0.995\n",
            "Accuracy on test data: 0.961\n"
          ]
        }
      ]
    },
    {
      "cell_type": "code",
      "source": [
        "from sklearn.metrics import confusion_matrix\n",
        "from sklearn.metrics import classification_report\n",
        "\n",
        "# Print the confusion matrix\n",
        "print(confusion_matrix(y2_test, svccpred))\n",
        "print(classification_report(y2_test, svccpred))"
      ],
      "metadata": {
        "colab": {
          "base_uri": "https://localhost:8080/"
        },
        "id": "2RCO6nWDTrQO",
        "outputId": "43ed2993-c883-4923-da78-82faa11f2994"
      },
      "execution_count": 45,
      "outputs": [
        {
          "output_type": "stream",
          "name": "stdout",
          "text": [
            "[[113  19]\n",
            " [  2 406]]\n",
            "              precision    recall  f1-score   support\n",
            "\n",
            "           0       0.98      0.86      0.91       132\n",
            "           1       0.96      1.00      0.97       408\n",
            "\n",
            "    accuracy                           0.96       540\n",
            "   macro avg       0.97      0.93      0.94       540\n",
            "weighted avg       0.96      0.96      0.96       540\n",
            "\n"
          ]
        }
      ]
    },
    {
      "cell_type": "markdown",
      "source": [
        "# **MULTINOMIALNB**"
      ],
      "metadata": {
        "id": "ndZ1Mlt_TuL1"
      }
    },
    {
      "cell_type": "code",
      "source": [
        "mb = MultinomialNB()\n",
        "mb.fit(X2_train,y2_train)\n",
        "mbpred = mb.predict(X2_test)\n",
        "print(metrics.accuracy_score(y2_test,mbpred))\n",
        "print('Accuracy on training data: {:,.3f}'.format(mb.score (X2_train, y2_train)))\n",
        "\n",
        "print('Accuracy on test data: {:,.3f}'.format(mb.score (X2_test, y2_test)))"
      ],
      "metadata": {
        "colab": {
          "base_uri": "https://localhost:8080/"
        },
        "id": "D1OsCAD9T0kj",
        "outputId": "b0c5641e-b450-4954-c15b-f6c5f2af91f6"
      },
      "execution_count": 46,
      "outputs": [
        {
          "output_type": "stream",
          "name": "stdout",
          "text": [
            "0.9629629629629629\n",
            "Accuracy on training data: 0.977\n",
            "Accuracy on test data: 0.963\n"
          ]
        }
      ]
    },
    {
      "cell_type": "code",
      "source": [
        "from sklearn.metrics import confusion_matrix\n",
        "from sklearn.metrics import classification_report\n",
        "\n",
        "# Print the confusion matrix\n",
        "print(confusion_matrix(y2_test, mbpred))\n",
        "print(classification_report(y2_test, mbpred))"
      ],
      "metadata": {
        "colab": {
          "base_uri": "https://localhost:8080/"
        },
        "id": "CzU0F67CUAnw",
        "outputId": "cf7b2bbb-ffa5-4bcc-c2df-9813afe6f6b4"
      },
      "execution_count": 47,
      "outputs": [
        {
          "output_type": "stream",
          "name": "stdout",
          "text": [
            "[[119  13]\n",
            " [  7 401]]\n",
            "              precision    recall  f1-score   support\n",
            "\n",
            "           0       0.94      0.90      0.92       132\n",
            "           1       0.97      0.98      0.98       408\n",
            "\n",
            "    accuracy                           0.96       540\n",
            "   macro avg       0.96      0.94      0.95       540\n",
            "weighted avg       0.96      0.96      0.96       540\n",
            "\n"
          ]
        }
      ]
    },
    {
      "cell_type": "markdown",
      "source": [
        "# **LOGISTIC REGRESSION**"
      ],
      "metadata": {
        "id": "O_kNnTkYUJq4"
      }
    },
    {
      "cell_type": "code",
      "source": [
        "from sklearn.linear_model import LogisticRegression\n",
        "from sklearn import metrics\n",
        "\n",
        "# Define the LogisticRegression model\n",
        "log_reg = LogisticRegression()\n",
        "\n",
        "# Fit the model on the training data\n",
        "log_reg.fit(X2_train, y2_train)\n",
        "\n",
        "# Make predictions on the test data\n",
        "model4_pred = log_reg.predict(X2_test)\n",
        "\n",
        "# Evaluate the accuracy of the model\n",
        "print(metrics.accuracy_score(y2_test, model4_pred))\n",
        "\n",
        "print('Accuracy on training data: {:,.3f}'.format(log_reg.score (X2_train, y2_train)))\n",
        "\n",
        "print('Accuracy on test data: {:,.3f}'.format(log_reg.score (X2_test, y2_test)))"
      ],
      "metadata": {
        "outputId": "d2536022-39fb-4b20-f091-1d60a89a4883",
        "colab": {
          "base_uri": "https://localhost:8080/"
        },
        "id": "MupTCS1cUOwM"
      },
      "execution_count": 48,
      "outputs": [
        {
          "output_type": "stream",
          "name": "stdout",
          "text": [
            "0.95\n",
            "Accuracy on training data: 0.969\n",
            "Accuracy on test data: 0.950\n"
          ]
        }
      ]
    },
    {
      "cell_type": "code",
      "source": [
        "from sklearn.metrics import confusion_matrix\n",
        "from sklearn.metrics import classification_report\n",
        "\n",
        "# Print the confusion matrix\n",
        "print(confusion_matrix(y2_test, model4_pred))\n",
        "print(classification_report(y2_test, model4_pred))"
      ],
      "metadata": {
        "outputId": "43c981a4-3e3b-4707-ddb5-dbb7f58ab5b2",
        "colab": {
          "base_uri": "https://localhost:8080/"
        },
        "id": "oqKSWpj_Upfe"
      },
      "execution_count": 49,
      "outputs": [
        {
          "output_type": "stream",
          "name": "stdout",
          "text": [
            "[[108  24]\n",
            " [  3 405]]\n",
            "              precision    recall  f1-score   support\n",
            "\n",
            "           0       0.97      0.82      0.89       132\n",
            "           1       0.94      0.99      0.97       408\n",
            "\n",
            "    accuracy                           0.95       540\n",
            "   macro avg       0.96      0.91      0.93       540\n",
            "weighted avg       0.95      0.95      0.95       540\n",
            "\n"
          ]
        }
      ]
    },
    {
      "cell_type": "markdown",
      "source": [
        "# **NAIVE BAYERS**"
      ],
      "metadata": {
        "id": "lOcQcLIuUwCh"
      }
    },
    {
      "cell_type": "code",
      "source": [
        "#Naive Bayes Classifier\n",
        "\n",
        "from sklearn.naive_bayes import GaussianNB\n",
        "\n",
        "gnb= GaussianNB()\n",
        "\n",
        "# Convert X_train to a dense NumPy array\n",
        "X2_train_dense = X2_train.toarray()\n",
        "\n",
        "# Convert X_test to a dense NumPy array\n",
        "X2_test_dense = X2_test.toarray()\n",
        "\n",
        "gnb.fit(X2_train_dense,y2_train)\n",
        "\n",
        "gnbpred = gnb.predict(X2_test_dense)\n",
        "\n",
        "print(metrics.accuracy_score(y2_test, gnbpred))\n",
        "\n",
        "print('Accuracy on training data: {:,.3f}'.format(gnb.score (X2_train_dense, y2_train)))\n",
        "\n",
        "print('Accuracy on test data: {:,.3f}'.format(gnb.score (X2_test_dense, y2_test)))"
      ],
      "metadata": {
        "outputId": "e6b10bb6-eb78-468c-883c-b04a7874c027",
        "colab": {
          "base_uri": "https://localhost:8080/"
        },
        "id": "QwqEDHZIUwCh"
      },
      "execution_count": 50,
      "outputs": [
        {
          "output_type": "stream",
          "name": "stdout",
          "text": [
            "0.8166666666666667\n",
            "Accuracy on training data: 0.856\n",
            "Accuracy on test data: 0.817\n"
          ]
        }
      ]
    },
    {
      "cell_type": "code",
      "source": [
        "from sklearn.metrics import confusion_matrix\n",
        "from sklearn.metrics import classification_report\n",
        "\n",
        "# Print the confusion matrix\n",
        "print(confusion_matrix(y2_test, gnbpred))\n",
        "print(classification_report(y2_test, gnbpred))"
      ],
      "metadata": {
        "outputId": "4aa5fe86-d8c6-4919-d6a1-ed3a9c49f6ba",
        "colab": {
          "base_uri": "https://localhost:8080/"
        },
        "id": "Rp57D1NBUwCh"
      },
      "execution_count": 51,
      "outputs": [
        {
          "output_type": "stream",
          "name": "stdout",
          "text": [
            "[[122  10]\n",
            " [ 89 319]]\n",
            "              precision    recall  f1-score   support\n",
            "\n",
            "           0       0.58      0.92      0.71       132\n",
            "           1       0.97      0.78      0.87       408\n",
            "\n",
            "    accuracy                           0.82       540\n",
            "   macro avg       0.77      0.85      0.79       540\n",
            "weighted avg       0.87      0.82      0.83       540\n",
            "\n"
          ]
        }
      ]
    },
    {
      "cell_type": "code",
      "source": [
        "## count vectorizer\n",
        "import time\n",
        "def vectorize_text():\n",
        "    count_vec = CountVectorizer(max_df=0.90,min_df=2,\n",
        "                           max_features=10000 )\n",
        "\n",
        "    bagofword_vec = count_vec.fit_transform(messeges['Message'])\n",
        "start_time = time.perf_counter()\n",
        "# Perform vectorization\n",
        "vector = vectorize_text()\n",
        "\n",
        "# End time measurement\n",
        "end_time = time.perf_counter()\n",
        "\n",
        "# Calculate elapsed time\n",
        "elapsed_time = end_time - start_time\n",
        "print(f\"Computational time for vectorization: {elapsed_time:.4f} seconds\")\n",
        "\n",
        "bagofword_vec"
      ],
      "metadata": {
        "colab": {
          "base_uri": "https://localhost:8080/"
        },
        "id": "Y_PwMZpAVcmD",
        "outputId": "a75119b7-12e3-44e2-bf70-184c770140b1"
      },
      "execution_count": 52,
      "outputs": [
        {
          "output_type": "stream",
          "name": "stdout",
          "text": [
            "Computational time for vectorization: 0.0544 seconds\n"
          ]
        },
        {
          "output_type": "execute_result",
          "data": {
            "text/plain": [
              "<2700x1000 sparse matrix of type '<class 'numpy.int64'>'\n",
              "\twith 16742 stored elements in Compressed Sparse Row format>"
            ]
          },
          "metadata": {},
          "execution_count": 52
        }
      ]
    },
    {
      "cell_type": "code",
      "source": [
        "!pip install word2vec\n",
        "import word2vec"
      ],
      "metadata": {
        "colab": {
          "base_uri": "https://localhost:8080/"
        },
        "id": "K8FEVl9qingy",
        "outputId": "2f858443-dd27-46e7-aabb-c3845a071b72"
      },
      "execution_count": 57,
      "outputs": [
        {
          "output_type": "stream",
          "name": "stdout",
          "text": [
            "Collecting word2vec\n",
            "  Downloading word2vec-0.11.1.tar.gz (42 kB)\n",
            "\u001b[?25l     \u001b[90m━━━━━━━━━━━━━━━━━━━━━━━━━━━━━━━━━━━━━━━━\u001b[0m \u001b[32m0.0/42.3 kB\u001b[0m \u001b[31m?\u001b[0m eta \u001b[36m-:--:--\u001b[0m\r\u001b[2K     \u001b[91m━━━━━━━━━━━━━━━━━━━━━━━━━━━━━━━━━━━━━━\u001b[0m\u001b[91m╸\u001b[0m\u001b[90m━\u001b[0m \u001b[32m41.0/42.3 kB\u001b[0m \u001b[31m1.0 MB/s\u001b[0m eta \u001b[36m0:00:01\u001b[0m\r\u001b[2K     \u001b[90m━━━━━━━━━━━━━━━━━━━━━━━━━━━━━━━━━━━━━━━━\u001b[0m \u001b[32m42.3/42.3 kB\u001b[0m \u001b[31m829.2 kB/s\u001b[0m eta \u001b[36m0:00:00\u001b[0m\n",
            "\u001b[?25h  Installing build dependencies ... \u001b[?25l\u001b[?25hdone\n",
            "  Getting requirements to build wheel ... \u001b[?25l\u001b[?25hdone\n",
            "  Preparing metadata (pyproject.toml) ... \u001b[?25l\u001b[?25hdone\n",
            "Requirement already satisfied: numpy>=1.9.2 in /usr/local/lib/python3.10/dist-packages (from word2vec) (1.25.2)\n",
            "Requirement already satisfied: joblib in /usr/local/lib/python3.10/dist-packages (from word2vec) (1.3.2)\n",
            "Building wheels for collected packages: word2vec\n",
            "  Building wheel for word2vec (pyproject.toml) ... \u001b[?25l\u001b[?25hdone\n",
            "  Created wheel for word2vec: filename=word2vec-0.11.1-py2.py3-none-any.whl size=141242 sha256=5c93e62fd89a02c923ff273cc2f2273287133a2a4b955432ca69501838cf7594\n",
            "  Stored in directory: /root/.cache/pip/wheels/6a/fa/d1/e03e8c10e0e2aa5c7b6e2b46b4a1c715d140283853937bb4b1\n",
            "Successfully built word2vec\n",
            "Installing collected packages: word2vec\n",
            "Successfully installed word2vec-0.11.1\n"
          ]
        }
      ]
    },
    {
      "cell_type": "code",
      "source": [
        "import nltk"
      ],
      "metadata": {
        "id": "2VX-y8t7norx"
      },
      "execution_count": 73,
      "outputs": []
    },
    {
      "cell_type": "code",
      "source": [
        "nltk.download('punkt')"
      ],
      "metadata": {
        "colab": {
          "base_uri": "https://localhost:8080/"
        },
        "id": "q882qN1hnsBK",
        "outputId": "b3732e6d-fc8e-4c17-dd79-302b3d47ba45"
      },
      "execution_count": 74,
      "outputs": [
        {
          "output_type": "stream",
          "name": "stderr",
          "text": [
            "[nltk_data] Downloading package punkt to /root/nltk_data...\n",
            "[nltk_data]   Unzipping tokenizers/punkt.zip.\n"
          ]
        },
        {
          "output_type": "execute_result",
          "data": {
            "text/plain": [
              "True"
            ]
          },
          "metadata": {},
          "execution_count": 74
        }
      ]
    },
    {
      "cell_type": "markdown",
      "source": [
        "# **WORD2VEC**"
      ],
      "metadata": {
        "id": "k2IG5iVmqj_J"
      }
    },
    {
      "cell_type": "code",
      "source": [
        "from gensim.models import Word2Vec\n",
        "from nltk.tokenize import word_tokenize\n",
        "import pandas as pd\n",
        "import time\n",
        "def vectorize_text():\n",
        "  # Tokenize the preprocessed messages\n",
        "  tokenized_messages = messeges['Message'].apply(word_tokenize)\n",
        "  w2v_model = Word2Vec(sentences=tokenized_messages, vector_size=100, window=5, min_count=2, sg=1)\n",
        "  def get_average_word2vec(tokens_list, model):\n",
        "    word_vectors = []\n",
        "    for word in tokens_list:\n",
        "        if word in model.wv:\n",
        "            word_vectors.append(model.wv[word])\n",
        "    if word_vectors:\n",
        "        message_vector = sum(word_vectors) / len(word_vectors)\n",
        "    else:\n",
        "        message_vector = [0] * model.vector_size\n",
        "    return message_vector\n",
        "\n",
        "# Vectorize text using Word2Vec embeddings\n",
        "    word2vec_vectors = tokenized_messages.apply(lambda x: get_average_word2vec(x, w2v_model))\n",
        "\n",
        "\n",
        "# Print the shape of the resulting embeddings\n",
        "start_time = time.perf_counter()\n",
        "# Perform vectorization\n",
        "vector = vectorize_text()\n",
        "\n",
        "# End time measurement\n",
        "end_time = time.perf_counter()\n",
        "\n",
        "# Calculate elapsed time\n",
        "elapsed_time = end_time - start_time\n",
        "print(f\"Computational time for vectorization: {elapsed_time:.4f} seconds\")\n"
      ],
      "metadata": {
        "colab": {
          "base_uri": "https://localhost:8080/"
        },
        "id": "rgTPSfB3nZ0p",
        "outputId": "df549d3e-ed04-4025-9afe-e860c00a0b1f"
      },
      "execution_count": 78,
      "outputs": [
        {
          "output_type": "stream",
          "name": "stdout",
          "text": [
            "Computational time for vectorization: 0.7867 seconds\n"
          ]
        }
      ]
    },
    {
      "cell_type": "code",
      "source": [
        "from sklearn.feature_extraction.text import *"
      ],
      "metadata": {
        "id": "I5oDMP-lrNpa"
      },
      "execution_count": 85,
      "outputs": []
    },
    {
      "cell_type": "code",
      "source": [
        "!pip install sklearn-extras"
      ],
      "metadata": {
        "colab": {
          "base_uri": "https://localhost:8080/"
        },
        "id": "SwAzQPVHrP4e",
        "outputId": "d868f249-0c86-4052-cd79-79cb2e4cc5a6"
      },
      "execution_count": 86,
      "outputs": [
        {
          "output_type": "stream",
          "name": "stdout",
          "text": [
            "Collecting sklearn-extras\n",
            "  Downloading sklearn_extras-0.1.1.tar.gz (1.5 kB)\n",
            "  Preparing metadata (setup.py) ... \u001b[?25l\u001b[?25hdone\n",
            "Building wheels for collected packages: sklearn-extras\n",
            "  Building wheel for sklearn-extras (setup.py) ... \u001b[?25l\u001b[?25hdone\n",
            "  Created wheel for sklearn-extras: filename=sklearn_extras-0.1.1-py3-none-any.whl size=2181 sha256=948a96c55cddec3fb72b48bfea61c1acc074c4c364ee02ee4e86ed5246ccdcc4\n",
            "  Stored in directory: /root/.cache/pip/wheels/17/be/14/4e60423bc56c67eb57f37be00fd7b6fe32876e57ce884b1412\n",
            "Successfully built sklearn-extras\n",
            "Installing collected packages: sklearn-extras\n",
            "Successfully installed sklearn-extras-0.1.1\n"
          ]
        }
      ]
    },
    {
      "cell_type": "code",
      "source": [
        "import pandas as pd\n",
        "from gensim.models import Word2Vec\n",
        "from nltk.tokenize import word_tokenize\n",
        "\n",
        "# Assuming `messages` is a DataFrame containing text messages in the column 'Message'\n",
        "\n",
        "# Define the preprocess_function\n",
        "def preprocess_function(text):\n",
        "    # Replace this with your actual preprocessing steps\n",
        "    # Preprocess the text messages\n",
        "    messeges['Message'] = messeges['Message'].apply(preprocess_function)\n",
        "    return text.lower()\n",
        "\n",
        "\n",
        "\n",
        "# Tokenize the preprocessed messages\n",
        "tokenized_messages = messeges['Message'].apply(word_tokenize)\n",
        "\n",
        "# Train Word2Vec model\n",
        "w2v_model = Word2Vec(sentences=tokenized_messages, vector_size=100, window=5, min_count=2, sg=0)\n",
        "\n",
        "# Example usage to get Word2Vec embeddings for a specific word\n",
        "word = 'example_word'\n",
        "if word in w2v_model.wv:\n",
        "    word_vector = w2v_model.wv[word]\n",
        "    print(f\"Word vector for '{word}': {word_vector}\")\n",
        "\n",
        "# Example usage to get Word2Vec embeddings for a specific text message\n",
        "def get_average_word2vec(tokens_list, model):\n",
        "    word_vectors = []\n",
        "    for word in tokens_list:\n",
        "        if word in model.wv:\n",
        "            word_vectors.append(model.wv[word])\n",
        "    if word_vectors:\n",
        "        message_vector = sum(word_vectors) / len(word_vectors)\n",
        "    else:\n",
        "        message_vector = [0] * model.vector_size\n",
        "    return message_vector\n",
        "\n",
        "# Vectorize text using Word2Vec embeddings\n",
        "word2vec_vectors = tokenized_messages.apply(lambda x: get_average_word2vec(x, w2v_model))\n",
        "\n",
        "# Convert the Word2Vec vectors into a matrix\n",
        "word2vec_matrix = pd.DataFrame(word2vec_vectors.tolist())\n",
        "\n",
        "# Print the Word2Vec matrix\n",
        "\n",
        "word2vec_matrix"
      ],
      "metadata": {
        "colab": {
          "base_uri": "https://localhost:8080/",
          "height": 443
        },
        "id": "A-tsk9KVphfJ",
        "outputId": "29f9d6a2-3631-42d7-c2d9-6a4ad42e1ea6"
      },
      "execution_count": 100,
      "outputs": [
        {
          "output_type": "execute_result",
          "data": {
            "text/plain": [
              "            0         1         2         3         4         5         6   \\\n",
              "0    -0.143531  0.221924 -0.007294  0.009838  0.036996 -0.305273  0.062427   \n",
              "1    -0.131702  0.197425 -0.004352  0.010849  0.034617 -0.275039  0.052193   \n",
              "2    -0.234041  0.365282 -0.010568  0.021598  0.062249 -0.510441  0.099062   \n",
              "3    -0.146956  0.221438 -0.003842  0.009566  0.033775 -0.312037  0.059476   \n",
              "4    -0.148545  0.221735 -0.007187  0.014584  0.035109 -0.312218  0.057894   \n",
              "...        ...       ...       ...       ...       ...       ...       ...   \n",
              "2695 -0.094514  0.143331 -0.006114  0.008568  0.026582 -0.196548  0.038665   \n",
              "2696 -0.194849  0.294356 -0.008613  0.015087  0.050957 -0.410976  0.079108   \n",
              "2697 -0.173040  0.257408 -0.008038  0.011530  0.045799 -0.359696  0.071181   \n",
              "2698 -0.112692  0.167952 -0.002377  0.012161  0.029900 -0.237405  0.045734   \n",
              "2699 -0.149772  0.230050 -0.007368  0.009827  0.038688 -0.315839  0.060580   \n",
              "\n",
              "            7         8         9   ...        90        91        92  \\\n",
              "0     0.445421 -0.111865 -0.059748  ...  0.302519  0.072737 -0.033113   \n",
              "1     0.399570 -0.105787 -0.051947  ...  0.269552  0.063768 -0.027247   \n",
              "2     0.741895 -0.195088 -0.097174  ...  0.495792  0.119524 -0.058793   \n",
              "3     0.446102 -0.115446 -0.060257  ...  0.305406  0.073508 -0.037389   \n",
              "4     0.451153 -0.119483 -0.057806  ...  0.302335  0.073154 -0.037829   \n",
              "...        ...       ...       ...  ...       ...       ...       ...   \n",
              "2695  0.290624 -0.076008 -0.037531  ...  0.198509  0.048385 -0.021899   \n",
              "2696  0.603090 -0.155224 -0.082688  ...  0.405412  0.094524 -0.041911   \n",
              "2697  0.527453 -0.135175 -0.070353  ...  0.357791  0.083013 -0.035060   \n",
              "2698  0.346255 -0.088965 -0.046738  ...  0.234865  0.053225 -0.025189   \n",
              "2699  0.464622 -0.124079 -0.063378  ...  0.316022  0.073916 -0.034268   \n",
              "\n",
              "            93        94        95        96        97        98        99  \n",
              "0     0.094150  0.321885  0.252072  0.082850 -0.208205  0.085955 -0.073371  \n",
              "1     0.085524  0.286406  0.222988  0.071149 -0.187371  0.076064 -0.060424  \n",
              "2     0.160967  0.535439  0.420030  0.133715 -0.347641  0.138803 -0.121014  \n",
              "3     0.092626  0.325803  0.254575  0.080161 -0.210584  0.086433 -0.073023  \n",
              "4     0.092746  0.320621  0.257303  0.086740 -0.204077  0.089775 -0.071738  \n",
              "...        ...       ...       ...       ...       ...       ...       ...  \n",
              "2695  0.058987  0.207525  0.162365  0.051743 -0.134595  0.052838 -0.046508  \n",
              "2696  0.123302  0.433896  0.344460  0.108809 -0.282397  0.112356 -0.098068  \n",
              "2697  0.111705  0.380225  0.299677  0.095476 -0.243223  0.099242 -0.085662  \n",
              "2698  0.072149  0.250772  0.196247  0.062211 -0.163792  0.062810 -0.056634  \n",
              "2699  0.094711  0.336243  0.263745  0.084253 -0.219697  0.089222 -0.071765  \n",
              "\n",
              "[2700 rows x 100 columns]"
            ],
            "text/html": [
              "\n",
              "  <div id=\"df-14a07398-4d50-4422-8281-3b08324ed880\" class=\"colab-df-container\">\n",
              "    <div>\n",
              "<style scoped>\n",
              "    .dataframe tbody tr th:only-of-type {\n",
              "        vertical-align: middle;\n",
              "    }\n",
              "\n",
              "    .dataframe tbody tr th {\n",
              "        vertical-align: top;\n",
              "    }\n",
              "\n",
              "    .dataframe thead th {\n",
              "        text-align: right;\n",
              "    }\n",
              "</style>\n",
              "<table border=\"1\" class=\"dataframe\">\n",
              "  <thead>\n",
              "    <tr style=\"text-align: right;\">\n",
              "      <th></th>\n",
              "      <th>0</th>\n",
              "      <th>1</th>\n",
              "      <th>2</th>\n",
              "      <th>3</th>\n",
              "      <th>4</th>\n",
              "      <th>5</th>\n",
              "      <th>6</th>\n",
              "      <th>7</th>\n",
              "      <th>8</th>\n",
              "      <th>9</th>\n",
              "      <th>...</th>\n",
              "      <th>90</th>\n",
              "      <th>91</th>\n",
              "      <th>92</th>\n",
              "      <th>93</th>\n",
              "      <th>94</th>\n",
              "      <th>95</th>\n",
              "      <th>96</th>\n",
              "      <th>97</th>\n",
              "      <th>98</th>\n",
              "      <th>99</th>\n",
              "    </tr>\n",
              "  </thead>\n",
              "  <tbody>\n",
              "    <tr>\n",
              "      <th>0</th>\n",
              "      <td>-0.143531</td>\n",
              "      <td>0.221924</td>\n",
              "      <td>-0.007294</td>\n",
              "      <td>0.009838</td>\n",
              "      <td>0.036996</td>\n",
              "      <td>-0.305273</td>\n",
              "      <td>0.062427</td>\n",
              "      <td>0.445421</td>\n",
              "      <td>-0.111865</td>\n",
              "      <td>-0.059748</td>\n",
              "      <td>...</td>\n",
              "      <td>0.302519</td>\n",
              "      <td>0.072737</td>\n",
              "      <td>-0.033113</td>\n",
              "      <td>0.094150</td>\n",
              "      <td>0.321885</td>\n",
              "      <td>0.252072</td>\n",
              "      <td>0.082850</td>\n",
              "      <td>-0.208205</td>\n",
              "      <td>0.085955</td>\n",
              "      <td>-0.073371</td>\n",
              "    </tr>\n",
              "    <tr>\n",
              "      <th>1</th>\n",
              "      <td>-0.131702</td>\n",
              "      <td>0.197425</td>\n",
              "      <td>-0.004352</td>\n",
              "      <td>0.010849</td>\n",
              "      <td>0.034617</td>\n",
              "      <td>-0.275039</td>\n",
              "      <td>0.052193</td>\n",
              "      <td>0.399570</td>\n",
              "      <td>-0.105787</td>\n",
              "      <td>-0.051947</td>\n",
              "      <td>...</td>\n",
              "      <td>0.269552</td>\n",
              "      <td>0.063768</td>\n",
              "      <td>-0.027247</td>\n",
              "      <td>0.085524</td>\n",
              "      <td>0.286406</td>\n",
              "      <td>0.222988</td>\n",
              "      <td>0.071149</td>\n",
              "      <td>-0.187371</td>\n",
              "      <td>0.076064</td>\n",
              "      <td>-0.060424</td>\n",
              "    </tr>\n",
              "    <tr>\n",
              "      <th>2</th>\n",
              "      <td>-0.234041</td>\n",
              "      <td>0.365282</td>\n",
              "      <td>-0.010568</td>\n",
              "      <td>0.021598</td>\n",
              "      <td>0.062249</td>\n",
              "      <td>-0.510441</td>\n",
              "      <td>0.099062</td>\n",
              "      <td>0.741895</td>\n",
              "      <td>-0.195088</td>\n",
              "      <td>-0.097174</td>\n",
              "      <td>...</td>\n",
              "      <td>0.495792</td>\n",
              "      <td>0.119524</td>\n",
              "      <td>-0.058793</td>\n",
              "      <td>0.160967</td>\n",
              "      <td>0.535439</td>\n",
              "      <td>0.420030</td>\n",
              "      <td>0.133715</td>\n",
              "      <td>-0.347641</td>\n",
              "      <td>0.138803</td>\n",
              "      <td>-0.121014</td>\n",
              "    </tr>\n",
              "    <tr>\n",
              "      <th>3</th>\n",
              "      <td>-0.146956</td>\n",
              "      <td>0.221438</td>\n",
              "      <td>-0.003842</td>\n",
              "      <td>0.009566</td>\n",
              "      <td>0.033775</td>\n",
              "      <td>-0.312037</td>\n",
              "      <td>0.059476</td>\n",
              "      <td>0.446102</td>\n",
              "      <td>-0.115446</td>\n",
              "      <td>-0.060257</td>\n",
              "      <td>...</td>\n",
              "      <td>0.305406</td>\n",
              "      <td>0.073508</td>\n",
              "      <td>-0.037389</td>\n",
              "      <td>0.092626</td>\n",
              "      <td>0.325803</td>\n",
              "      <td>0.254575</td>\n",
              "      <td>0.080161</td>\n",
              "      <td>-0.210584</td>\n",
              "      <td>0.086433</td>\n",
              "      <td>-0.073023</td>\n",
              "    </tr>\n",
              "    <tr>\n",
              "      <th>4</th>\n",
              "      <td>-0.148545</td>\n",
              "      <td>0.221735</td>\n",
              "      <td>-0.007187</td>\n",
              "      <td>0.014584</td>\n",
              "      <td>0.035109</td>\n",
              "      <td>-0.312218</td>\n",
              "      <td>0.057894</td>\n",
              "      <td>0.451153</td>\n",
              "      <td>-0.119483</td>\n",
              "      <td>-0.057806</td>\n",
              "      <td>...</td>\n",
              "      <td>0.302335</td>\n",
              "      <td>0.073154</td>\n",
              "      <td>-0.037829</td>\n",
              "      <td>0.092746</td>\n",
              "      <td>0.320621</td>\n",
              "      <td>0.257303</td>\n",
              "      <td>0.086740</td>\n",
              "      <td>-0.204077</td>\n",
              "      <td>0.089775</td>\n",
              "      <td>-0.071738</td>\n",
              "    </tr>\n",
              "    <tr>\n",
              "      <th>...</th>\n",
              "      <td>...</td>\n",
              "      <td>...</td>\n",
              "      <td>...</td>\n",
              "      <td>...</td>\n",
              "      <td>...</td>\n",
              "      <td>...</td>\n",
              "      <td>...</td>\n",
              "      <td>...</td>\n",
              "      <td>...</td>\n",
              "      <td>...</td>\n",
              "      <td>...</td>\n",
              "      <td>...</td>\n",
              "      <td>...</td>\n",
              "      <td>...</td>\n",
              "      <td>...</td>\n",
              "      <td>...</td>\n",
              "      <td>...</td>\n",
              "      <td>...</td>\n",
              "      <td>...</td>\n",
              "      <td>...</td>\n",
              "      <td>...</td>\n",
              "    </tr>\n",
              "    <tr>\n",
              "      <th>2695</th>\n",
              "      <td>-0.094514</td>\n",
              "      <td>0.143331</td>\n",
              "      <td>-0.006114</td>\n",
              "      <td>0.008568</td>\n",
              "      <td>0.026582</td>\n",
              "      <td>-0.196548</td>\n",
              "      <td>0.038665</td>\n",
              "      <td>0.290624</td>\n",
              "      <td>-0.076008</td>\n",
              "      <td>-0.037531</td>\n",
              "      <td>...</td>\n",
              "      <td>0.198509</td>\n",
              "      <td>0.048385</td>\n",
              "      <td>-0.021899</td>\n",
              "      <td>0.058987</td>\n",
              "      <td>0.207525</td>\n",
              "      <td>0.162365</td>\n",
              "      <td>0.051743</td>\n",
              "      <td>-0.134595</td>\n",
              "      <td>0.052838</td>\n",
              "      <td>-0.046508</td>\n",
              "    </tr>\n",
              "    <tr>\n",
              "      <th>2696</th>\n",
              "      <td>-0.194849</td>\n",
              "      <td>0.294356</td>\n",
              "      <td>-0.008613</td>\n",
              "      <td>0.015087</td>\n",
              "      <td>0.050957</td>\n",
              "      <td>-0.410976</td>\n",
              "      <td>0.079108</td>\n",
              "      <td>0.603090</td>\n",
              "      <td>-0.155224</td>\n",
              "      <td>-0.082688</td>\n",
              "      <td>...</td>\n",
              "      <td>0.405412</td>\n",
              "      <td>0.094524</td>\n",
              "      <td>-0.041911</td>\n",
              "      <td>0.123302</td>\n",
              "      <td>0.433896</td>\n",
              "      <td>0.344460</td>\n",
              "      <td>0.108809</td>\n",
              "      <td>-0.282397</td>\n",
              "      <td>0.112356</td>\n",
              "      <td>-0.098068</td>\n",
              "    </tr>\n",
              "    <tr>\n",
              "      <th>2697</th>\n",
              "      <td>-0.173040</td>\n",
              "      <td>0.257408</td>\n",
              "      <td>-0.008038</td>\n",
              "      <td>0.011530</td>\n",
              "      <td>0.045799</td>\n",
              "      <td>-0.359696</td>\n",
              "      <td>0.071181</td>\n",
              "      <td>0.527453</td>\n",
              "      <td>-0.135175</td>\n",
              "      <td>-0.070353</td>\n",
              "      <td>...</td>\n",
              "      <td>0.357791</td>\n",
              "      <td>0.083013</td>\n",
              "      <td>-0.035060</td>\n",
              "      <td>0.111705</td>\n",
              "      <td>0.380225</td>\n",
              "      <td>0.299677</td>\n",
              "      <td>0.095476</td>\n",
              "      <td>-0.243223</td>\n",
              "      <td>0.099242</td>\n",
              "      <td>-0.085662</td>\n",
              "    </tr>\n",
              "    <tr>\n",
              "      <th>2698</th>\n",
              "      <td>-0.112692</td>\n",
              "      <td>0.167952</td>\n",
              "      <td>-0.002377</td>\n",
              "      <td>0.012161</td>\n",
              "      <td>0.029900</td>\n",
              "      <td>-0.237405</td>\n",
              "      <td>0.045734</td>\n",
              "      <td>0.346255</td>\n",
              "      <td>-0.088965</td>\n",
              "      <td>-0.046738</td>\n",
              "      <td>...</td>\n",
              "      <td>0.234865</td>\n",
              "      <td>0.053225</td>\n",
              "      <td>-0.025189</td>\n",
              "      <td>0.072149</td>\n",
              "      <td>0.250772</td>\n",
              "      <td>0.196247</td>\n",
              "      <td>0.062211</td>\n",
              "      <td>-0.163792</td>\n",
              "      <td>0.062810</td>\n",
              "      <td>-0.056634</td>\n",
              "    </tr>\n",
              "    <tr>\n",
              "      <th>2699</th>\n",
              "      <td>-0.149772</td>\n",
              "      <td>0.230050</td>\n",
              "      <td>-0.007368</td>\n",
              "      <td>0.009827</td>\n",
              "      <td>0.038688</td>\n",
              "      <td>-0.315839</td>\n",
              "      <td>0.060580</td>\n",
              "      <td>0.464622</td>\n",
              "      <td>-0.124079</td>\n",
              "      <td>-0.063378</td>\n",
              "      <td>...</td>\n",
              "      <td>0.316022</td>\n",
              "      <td>0.073916</td>\n",
              "      <td>-0.034268</td>\n",
              "      <td>0.094711</td>\n",
              "      <td>0.336243</td>\n",
              "      <td>0.263745</td>\n",
              "      <td>0.084253</td>\n",
              "      <td>-0.219697</td>\n",
              "      <td>0.089222</td>\n",
              "      <td>-0.071765</td>\n",
              "    </tr>\n",
              "  </tbody>\n",
              "</table>\n",
              "<p>2700 rows × 100 columns</p>\n",
              "</div>\n",
              "    <div class=\"colab-df-buttons\">\n",
              "\n",
              "  <div class=\"colab-df-container\">\n",
              "    <button class=\"colab-df-convert\" onclick=\"convertToInteractive('df-14a07398-4d50-4422-8281-3b08324ed880')\"\n",
              "            title=\"Convert this dataframe to an interactive table.\"\n",
              "            style=\"display:none;\">\n",
              "\n",
              "  <svg xmlns=\"http://www.w3.org/2000/svg\" height=\"24px\" viewBox=\"0 -960 960 960\">\n",
              "    <path d=\"M120-120v-720h720v720H120Zm60-500h600v-160H180v160Zm220 220h160v-160H400v160Zm0 220h160v-160H400v160ZM180-400h160v-160H180v160Zm440 0h160v-160H620v160ZM180-180h160v-160H180v160Zm440 0h160v-160H620v160Z\"/>\n",
              "  </svg>\n",
              "    </button>\n",
              "\n",
              "  <style>\n",
              "    .colab-df-container {\n",
              "      display:flex;\n",
              "      gap: 12px;\n",
              "    }\n",
              "\n",
              "    .colab-df-convert {\n",
              "      background-color: #E8F0FE;\n",
              "      border: none;\n",
              "      border-radius: 50%;\n",
              "      cursor: pointer;\n",
              "      display: none;\n",
              "      fill: #1967D2;\n",
              "      height: 32px;\n",
              "      padding: 0 0 0 0;\n",
              "      width: 32px;\n",
              "    }\n",
              "\n",
              "    .colab-df-convert:hover {\n",
              "      background-color: #E2EBFA;\n",
              "      box-shadow: 0px 1px 2px rgba(60, 64, 67, 0.3), 0px 1px 3px 1px rgba(60, 64, 67, 0.15);\n",
              "      fill: #174EA6;\n",
              "    }\n",
              "\n",
              "    .colab-df-buttons div {\n",
              "      margin-bottom: 4px;\n",
              "    }\n",
              "\n",
              "    [theme=dark] .colab-df-convert {\n",
              "      background-color: #3B4455;\n",
              "      fill: #D2E3FC;\n",
              "    }\n",
              "\n",
              "    [theme=dark] .colab-df-convert:hover {\n",
              "      background-color: #434B5C;\n",
              "      box-shadow: 0px 1px 3px 1px rgba(0, 0, 0, 0.15);\n",
              "      filter: drop-shadow(0px 1px 2px rgba(0, 0, 0, 0.3));\n",
              "      fill: #FFFFFF;\n",
              "    }\n",
              "  </style>\n",
              "\n",
              "    <script>\n",
              "      const buttonEl =\n",
              "        document.querySelector('#df-14a07398-4d50-4422-8281-3b08324ed880 button.colab-df-convert');\n",
              "      buttonEl.style.display =\n",
              "        google.colab.kernel.accessAllowed ? 'block' : 'none';\n",
              "\n",
              "      async function convertToInteractive(key) {\n",
              "        const element = document.querySelector('#df-14a07398-4d50-4422-8281-3b08324ed880');\n",
              "        const dataTable =\n",
              "          await google.colab.kernel.invokeFunction('convertToInteractive',\n",
              "                                                    [key], {});\n",
              "        if (!dataTable) return;\n",
              "\n",
              "        const docLinkHtml = 'Like what you see? Visit the ' +\n",
              "          '<a target=\"_blank\" href=https://colab.research.google.com/notebooks/data_table.ipynb>data table notebook</a>'\n",
              "          + ' to learn more about interactive tables.';\n",
              "        element.innerHTML = '';\n",
              "        dataTable['output_type'] = 'display_data';\n",
              "        await google.colab.output.renderOutput(dataTable, element);\n",
              "        const docLink = document.createElement('div');\n",
              "        docLink.innerHTML = docLinkHtml;\n",
              "        element.appendChild(docLink);\n",
              "      }\n",
              "    </script>\n",
              "  </div>\n",
              "\n",
              "\n",
              "<div id=\"df-19c90e14-d2ea-4fa0-b2a0-a1a58aa467fc\">\n",
              "  <button class=\"colab-df-quickchart\" onclick=\"quickchart('df-19c90e14-d2ea-4fa0-b2a0-a1a58aa467fc')\"\n",
              "            title=\"Suggest charts\"\n",
              "            style=\"display:none;\">\n",
              "\n",
              "<svg xmlns=\"http://www.w3.org/2000/svg\" height=\"24px\"viewBox=\"0 0 24 24\"\n",
              "     width=\"24px\">\n",
              "    <g>\n",
              "        <path d=\"M19 3H5c-1.1 0-2 .9-2 2v14c0 1.1.9 2 2 2h14c1.1 0 2-.9 2-2V5c0-1.1-.9-2-2-2zM9 17H7v-7h2v7zm4 0h-2V7h2v10zm4 0h-2v-4h2v4z\"/>\n",
              "    </g>\n",
              "</svg>\n",
              "  </button>\n",
              "\n",
              "<style>\n",
              "  .colab-df-quickchart {\n",
              "      --bg-color: #E8F0FE;\n",
              "      --fill-color: #1967D2;\n",
              "      --hover-bg-color: #E2EBFA;\n",
              "      --hover-fill-color: #174EA6;\n",
              "      --disabled-fill-color: #AAA;\n",
              "      --disabled-bg-color: #DDD;\n",
              "  }\n",
              "\n",
              "  [theme=dark] .colab-df-quickchart {\n",
              "      --bg-color: #3B4455;\n",
              "      --fill-color: #D2E3FC;\n",
              "      --hover-bg-color: #434B5C;\n",
              "      --hover-fill-color: #FFFFFF;\n",
              "      --disabled-bg-color: #3B4455;\n",
              "      --disabled-fill-color: #666;\n",
              "  }\n",
              "\n",
              "  .colab-df-quickchart {\n",
              "    background-color: var(--bg-color);\n",
              "    border: none;\n",
              "    border-radius: 50%;\n",
              "    cursor: pointer;\n",
              "    display: none;\n",
              "    fill: var(--fill-color);\n",
              "    height: 32px;\n",
              "    padding: 0;\n",
              "    width: 32px;\n",
              "  }\n",
              "\n",
              "  .colab-df-quickchart:hover {\n",
              "    background-color: var(--hover-bg-color);\n",
              "    box-shadow: 0 1px 2px rgba(60, 64, 67, 0.3), 0 1px 3px 1px rgba(60, 64, 67, 0.15);\n",
              "    fill: var(--button-hover-fill-color);\n",
              "  }\n",
              "\n",
              "  .colab-df-quickchart-complete:disabled,\n",
              "  .colab-df-quickchart-complete:disabled:hover {\n",
              "    background-color: var(--disabled-bg-color);\n",
              "    fill: var(--disabled-fill-color);\n",
              "    box-shadow: none;\n",
              "  }\n",
              "\n",
              "  .colab-df-spinner {\n",
              "    border: 2px solid var(--fill-color);\n",
              "    border-color: transparent;\n",
              "    border-bottom-color: var(--fill-color);\n",
              "    animation:\n",
              "      spin 1s steps(1) infinite;\n",
              "  }\n",
              "\n",
              "  @keyframes spin {\n",
              "    0% {\n",
              "      border-color: transparent;\n",
              "      border-bottom-color: var(--fill-color);\n",
              "      border-left-color: var(--fill-color);\n",
              "    }\n",
              "    20% {\n",
              "      border-color: transparent;\n",
              "      border-left-color: var(--fill-color);\n",
              "      border-top-color: var(--fill-color);\n",
              "    }\n",
              "    30% {\n",
              "      border-color: transparent;\n",
              "      border-left-color: var(--fill-color);\n",
              "      border-top-color: var(--fill-color);\n",
              "      border-right-color: var(--fill-color);\n",
              "    }\n",
              "    40% {\n",
              "      border-color: transparent;\n",
              "      border-right-color: var(--fill-color);\n",
              "      border-top-color: var(--fill-color);\n",
              "    }\n",
              "    60% {\n",
              "      border-color: transparent;\n",
              "      border-right-color: var(--fill-color);\n",
              "    }\n",
              "    80% {\n",
              "      border-color: transparent;\n",
              "      border-right-color: var(--fill-color);\n",
              "      border-bottom-color: var(--fill-color);\n",
              "    }\n",
              "    90% {\n",
              "      border-color: transparent;\n",
              "      border-bottom-color: var(--fill-color);\n",
              "    }\n",
              "  }\n",
              "</style>\n",
              "\n",
              "  <script>\n",
              "    async function quickchart(key) {\n",
              "      const quickchartButtonEl =\n",
              "        document.querySelector('#' + key + ' button');\n",
              "      quickchartButtonEl.disabled = true;  // To prevent multiple clicks.\n",
              "      quickchartButtonEl.classList.add('colab-df-spinner');\n",
              "      try {\n",
              "        const charts = await google.colab.kernel.invokeFunction(\n",
              "            'suggestCharts', [key], {});\n",
              "      } catch (error) {\n",
              "        console.error('Error during call to suggestCharts:', error);\n",
              "      }\n",
              "      quickchartButtonEl.classList.remove('colab-df-spinner');\n",
              "      quickchartButtonEl.classList.add('colab-df-quickchart-complete');\n",
              "    }\n",
              "    (() => {\n",
              "      let quickchartButtonEl =\n",
              "        document.querySelector('#df-19c90e14-d2ea-4fa0-b2a0-a1a58aa467fc button');\n",
              "      quickchartButtonEl.style.display =\n",
              "        google.colab.kernel.accessAllowed ? 'block' : 'none';\n",
              "    })();\n",
              "  </script>\n",
              "</div>\n",
              "\n",
              "  <div id=\"id_61c8d78f-206a-40b7-8a13-a1da825fcaf7\">\n",
              "    <style>\n",
              "      .colab-df-generate {\n",
              "        background-color: #E8F0FE;\n",
              "        border: none;\n",
              "        border-radius: 50%;\n",
              "        cursor: pointer;\n",
              "        display: none;\n",
              "        fill: #1967D2;\n",
              "        height: 32px;\n",
              "        padding: 0 0 0 0;\n",
              "        width: 32px;\n",
              "      }\n",
              "\n",
              "      .colab-df-generate:hover {\n",
              "        background-color: #E2EBFA;\n",
              "        box-shadow: 0px 1px 2px rgba(60, 64, 67, 0.3), 0px 1px 3px 1px rgba(60, 64, 67, 0.15);\n",
              "        fill: #174EA6;\n",
              "      }\n",
              "\n",
              "      [theme=dark] .colab-df-generate {\n",
              "        background-color: #3B4455;\n",
              "        fill: #D2E3FC;\n",
              "      }\n",
              "\n",
              "      [theme=dark] .colab-df-generate:hover {\n",
              "        background-color: #434B5C;\n",
              "        box-shadow: 0px 1px 3px 1px rgba(0, 0, 0, 0.15);\n",
              "        filter: drop-shadow(0px 1px 2px rgba(0, 0, 0, 0.3));\n",
              "        fill: #FFFFFF;\n",
              "      }\n",
              "    </style>\n",
              "    <button class=\"colab-df-generate\" onclick=\"generateWithVariable('word2vec_matrix')\"\n",
              "            title=\"Generate code using this dataframe.\"\n",
              "            style=\"display:none;\">\n",
              "\n",
              "  <svg xmlns=\"http://www.w3.org/2000/svg\" height=\"24px\"viewBox=\"0 0 24 24\"\n",
              "       width=\"24px\">\n",
              "    <path d=\"M7,19H8.4L18.45,9,17,7.55,7,17.6ZM5,21V16.75L18.45,3.32a2,2,0,0,1,2.83,0l1.4,1.43a1.91,1.91,0,0,1,.58,1.4,1.91,1.91,0,0,1-.58,1.4L9.25,21ZM18.45,9,17,7.55Zm-12,3A5.31,5.31,0,0,0,4.9,8.1,5.31,5.31,0,0,0,1,6.5,5.31,5.31,0,0,0,4.9,4.9,5.31,5.31,0,0,0,6.5,1,5.31,5.31,0,0,0,8.1,4.9,5.31,5.31,0,0,0,12,6.5,5.46,5.46,0,0,0,6.5,12Z\"/>\n",
              "  </svg>\n",
              "    </button>\n",
              "    <script>\n",
              "      (() => {\n",
              "      const buttonEl =\n",
              "        document.querySelector('#id_61c8d78f-206a-40b7-8a13-a1da825fcaf7 button.colab-df-generate');\n",
              "      buttonEl.style.display =\n",
              "        google.colab.kernel.accessAllowed ? 'block' : 'none';\n",
              "\n",
              "      buttonEl.onclick = () => {\n",
              "        google.colab.notebook.generateWithVariable('word2vec_matrix');\n",
              "      }\n",
              "      })();\n",
              "    </script>\n",
              "  </div>\n",
              "\n",
              "    </div>\n",
              "  </div>\n"
            ],
            "application/vnd.google.colaboratory.intrinsic+json": {
              "type": "dataframe",
              "variable_name": "word2vec_matrix"
            }
          },
          "metadata": {},
          "execution_count": 100
        }
      ]
    },
    {
      "cell_type": "code",
      "source": [
        "!pip install gensim"
      ],
      "metadata": {
        "colab": {
          "base_uri": "https://localhost:8080/"
        },
        "id": "glB6f0JhtDBW",
        "outputId": "ece5e7b2-13d2-49cf-c735-ffb93cc7f0b1"
      },
      "execution_count": 95,
      "outputs": [
        {
          "output_type": "stream",
          "name": "stdout",
          "text": [
            "Requirement already satisfied: gensim in /usr/local/lib/python3.10/dist-packages (4.3.2)\n",
            "Requirement already satisfied: numpy>=1.18.5 in /usr/local/lib/python3.10/dist-packages (from gensim) (1.25.2)\n",
            "Requirement already satisfied: scipy>=1.7.0 in /usr/local/lib/python3.10/dist-packages (from gensim) (1.11.4)\n",
            "Requirement already satisfied: smart-open>=1.8.1 in /usr/local/lib/python3.10/dist-packages (from gensim) (6.4.0)\n"
          ]
        }
      ]
    },
    {
      "cell_type": "code",
      "source": [
        "X3_train, X3_test, y3_train, y3_test = train_test_split(word2vec_matrix,y,\n",
        "                                                    test_size=0.2)\n",
        "X3_train.shape,X3_test.shape"
      ],
      "metadata": {
        "colab": {
          "base_uri": "https://localhost:8080/"
        },
        "id": "Gxm5U_6Av_Dx",
        "outputId": "af39e4a7-e5af-4610-b793-5f67cd17c684"
      },
      "execution_count": 101,
      "outputs": [
        {
          "output_type": "execute_result",
          "data": {
            "text/plain": [
              "((2160, 100), (540, 100))"
            ]
          },
          "metadata": {},
          "execution_count": 101
        }
      ]
    },
    {
      "cell_type": "markdown",
      "source": [
        "# **SVC**"
      ],
      "metadata": {
        "id": "KhGaXox5wd4T"
      }
    },
    {
      "cell_type": "code",
      "source": [
        "from sklearn import metrics\n",
        "from sklearn.svm import SVC\n",
        "\n",
        "\n",
        "# Train the SVC model\n",
        "svc = SVC()\n",
        "svc.fit(X3_train, y3_train)\n",
        "\n",
        "# Make predictions on the test set\n",
        "svccpred = svc.predict(X3_test)\n",
        "\n",
        "# Calculate accuracy on the training and test sets\n",
        "train_accuracy = svc.score(X3_train, y3_train)\n",
        "test_accuracy = svc.score(X3_test, y3_test)\n",
        "\n",
        "# Print the accuracy scores\n",
        "print('Accuracy on training data: {:,.3f}'.format(train_accuracy))\n",
        "print('Accuracy on test data: {:,.3f}'.format(test_accuracy))"
      ],
      "metadata": {
        "colab": {
          "base_uri": "https://localhost:8080/"
        },
        "outputId": "555ab918-3b6c-4a2f-db35-781dd79cadb0",
        "id": "q1fGHVrPwSym"
      },
      "execution_count": 102,
      "outputs": [
        {
          "output_type": "stream",
          "name": "stdout",
          "text": [
            "Accuracy on training data: 0.743\n",
            "Accuracy on test data: 0.733\n"
          ]
        }
      ]
    },
    {
      "cell_type": "code",
      "source": [
        "from sklearn.metrics import confusion_matrix\n",
        "from sklearn.metrics import classification_report\n",
        "\n",
        "# Print the confusion matrix\n",
        "print(confusion_matrix(y3_test, svccpred))\n",
        "print(classification_report(y3_test, svccpred))"
      ],
      "metadata": {
        "colab": {
          "base_uri": "https://localhost:8080/"
        },
        "outputId": "9bbd773e-c3b9-4586-aea9-5f427ca482c5",
        "id": "Zy5B-aNAws8G"
      },
      "execution_count": 103,
      "outputs": [
        {
          "output_type": "stream",
          "name": "stdout",
          "text": [
            "[[  0 144]\n",
            " [  0 396]]\n",
            "              precision    recall  f1-score   support\n",
            "\n",
            "           0       0.00      0.00      0.00       144\n",
            "           1       0.73      1.00      0.85       396\n",
            "\n",
            "    accuracy                           0.73       540\n",
            "   macro avg       0.37      0.50      0.42       540\n",
            "weighted avg       0.54      0.73      0.62       540\n",
            "\n"
          ]
        },
        {
          "output_type": "stream",
          "name": "stderr",
          "text": [
            "/usr/local/lib/python3.10/dist-packages/sklearn/metrics/_classification.py:1344: UndefinedMetricWarning: Precision and F-score are ill-defined and being set to 0.0 in labels with no predicted samples. Use `zero_division` parameter to control this behavior.\n",
            "  _warn_prf(average, modifier, msg_start, len(result))\n",
            "/usr/local/lib/python3.10/dist-packages/sklearn/metrics/_classification.py:1344: UndefinedMetricWarning: Precision and F-score are ill-defined and being set to 0.0 in labels with no predicted samples. Use `zero_division` parameter to control this behavior.\n",
            "  _warn_prf(average, modifier, msg_start, len(result))\n",
            "/usr/local/lib/python3.10/dist-packages/sklearn/metrics/_classification.py:1344: UndefinedMetricWarning: Precision and F-score are ill-defined and being set to 0.0 in labels with no predicted samples. Use `zero_division` parameter to control this behavior.\n",
            "  _warn_prf(average, modifier, msg_start, len(result))\n"
          ]
        }
      ]
    },
    {
      "cell_type": "markdown",
      "source": [
        "# **LOGISTIC REGRESSION**"
      ],
      "metadata": {
        "id": "TtiFwKK7yG5B"
      }
    },
    {
      "cell_type": "code",
      "source": [
        "from sklearn.linear_model import LogisticRegression\n",
        "from sklearn import metrics\n",
        "\n",
        "# Define the LogisticRegression model\n",
        "log_reg = LogisticRegression()\n",
        "\n",
        "# Fit the model on the training data\n",
        "log_reg.fit(X3_train, y3_train)\n",
        "\n",
        "# Make predictions on the test data\n",
        "model4_pred = log_reg.predict(X3_test)\n",
        "\n",
        "# Evaluate the accuracy of the model\n",
        "print(metrics.accuracy_score(y3_test, model4_pred))\n",
        "\n",
        "print('Accuracy on training data: {:,.3f}'.format(log_reg.score (X3_train, y3_train)))\n",
        "\n",
        "print('Accuracy on test data: {:,.3f}'.format(log_reg.score (X3_test, y3_test)))"
      ],
      "metadata": {
        "colab": {
          "base_uri": "https://localhost:8080/"
        },
        "id": "xJl2qrVXwsuq",
        "outputId": "a2b2550b-8736-4b68-abf0-0e02c7c7d4b5"
      },
      "execution_count": 108,
      "outputs": [
        {
          "output_type": "stream",
          "name": "stdout",
          "text": [
            "0.7314814814814815\n",
            "Accuracy on training data: 0.743\n",
            "Accuracy on test data: 0.731\n"
          ]
        }
      ]
    },
    {
      "cell_type": "code",
      "source": [
        "from sklearn.metrics import confusion_matrix\n",
        "from sklearn.metrics import classification_report\n",
        "\n",
        "# Print the confusion matrix\n",
        "print(confusion_matrix(y3_test, model4_pred))\n",
        "print(classification_report(y3_test, model4_pred))"
      ],
      "metadata": {
        "colab": {
          "base_uri": "https://localhost:8080/"
        },
        "id": "kfZz_kOPyafA",
        "outputId": "e4134331-b16c-4d63-ef26-e8f4949a8e63"
      },
      "execution_count": 109,
      "outputs": [
        {
          "output_type": "stream",
          "name": "stdout",
          "text": [
            "[[  0 144]\n",
            " [  1 395]]\n",
            "              precision    recall  f1-score   support\n",
            "\n",
            "           0       0.00      0.00      0.00       144\n",
            "           1       0.73      1.00      0.84       396\n",
            "\n",
            "    accuracy                           0.73       540\n",
            "   macro avg       0.37      0.50      0.42       540\n",
            "weighted avg       0.54      0.73      0.62       540\n",
            "\n"
          ]
        }
      ]
    },
    {
      "cell_type": "markdown",
      "source": [
        "# **NAIVE BAYERS**"
      ],
      "metadata": {
        "id": "xi87mBH7yjzz"
      }
    },
    {
      "cell_type": "code",
      "source": [
        "!pip install scikit-learn"
      ],
      "metadata": {
        "colab": {
          "base_uri": "https://localhost:8080/"
        },
        "id": "SwhOtmPqzJW2",
        "outputId": "4dd05ab9-6ba1-4377-e8dd-ca48c11caef8"
      },
      "execution_count": 111,
      "outputs": [
        {
          "output_type": "stream",
          "name": "stdout",
          "text": [
            "Requirement already satisfied: scikit-learn in /usr/local/lib/python3.10/dist-packages (1.2.2)\n",
            "Requirement already satisfied: numpy>=1.17.3 in /usr/local/lib/python3.10/dist-packages (from scikit-learn) (1.25.2)\n",
            "Requirement already satisfied: scipy>=1.3.2 in /usr/local/lib/python3.10/dist-packages (from scikit-learn) (1.11.4)\n",
            "Requirement already satisfied: joblib>=1.1.1 in /usr/local/lib/python3.10/dist-packages (from scikit-learn) (1.3.2)\n",
            "Requirement already satisfied: threadpoolctl>=2.0.0 in /usr/local/lib/python3.10/dist-packages (from scikit-learn) (3.4.0)\n"
          ]
        }
      ]
    },
    {
      "cell_type": "code",
      "source": [
        "# Import necessary libraries\n",
        "from sklearn.naive_bayes import GaussianNB\n",
        "from sklearn import preprocessing\n",
        "from sklearn import metrics\n",
        "\n",
        "# Load your data into X3_train, X3_test, y3_train, y3_test variables\n",
        "\n",
        "# Create a Gaussian Naive Bayes classifier\n",
        "gnb = GaussianNB()\n",
        "\n",
        "# Convert DataFrame objects to NumPy arrays\n",
        "X3_train_dense = X3_train.values\n",
        "X3_test_dense = X3_test.values\n",
        "\n",
        "# Train the classifier\n",
        "gnb.fit(X3_train_dense, y3_train)\n",
        "\n",
        "# Predict the labels for the test data\n",
        "gnbpred = gnb.predict(X3_test_dense)\n",
        "\n",
        "# Calculate and print the accuracy score\n",
        "print(f\"Accuracy score: {metrics.accuracy_score(y3_test, gnbpred)}\")\n",
        "\n",
        "# Calculate and print the training data accuracy\n",
        "print(f\"Accuracy on training data: {gnb.score(X3_train_dense, y3_train):.3f}\")\n",
        "\n",
        "# Calculate and print the test data accuracy\n",
        "print(f\"Accuracy on test data: {gnb.score(X3_test_dense, y3_test):.3f}\")"
      ],
      "metadata": {
        "colab": {
          "base_uri": "https://localhost:8080/"
        },
        "id": "8_wfQO8GylL2",
        "outputId": "8276f37e-3f99-4ed3-85f3-bc78a3569109"
      },
      "execution_count": 114,
      "outputs": [
        {
          "output_type": "stream",
          "name": "stdout",
          "text": [
            "Accuracy score: 0.5111111111111111\n",
            "Accuracy on training data: 0.546\n",
            "Accuracy on test data: 0.511\n"
          ]
        }
      ]
    },
    {
      "cell_type": "code",
      "source": [
        "from sklearn.metrics import confusion_matrix\n",
        "from sklearn.metrics import classification_report\n",
        "\n",
        "# Print the confusion matrix\n",
        "print(confusion_matrix(y3_test, gnbpred))\n",
        "print(classification_report(y3_test, gnbpred))"
      ],
      "metadata": {
        "colab": {
          "base_uri": "https://localhost:8080/"
        },
        "id": "R6w7KsvVzuP1",
        "outputId": "35b96725-4d9f-4bb1-bf18-f075bd19062a"
      },
      "execution_count": 115,
      "outputs": [
        {
          "output_type": "stream",
          "name": "stdout",
          "text": [
            "[[120  24]\n",
            " [240 156]]\n",
            "              precision    recall  f1-score   support\n",
            "\n",
            "           0       0.33      0.83      0.48       144\n",
            "           1       0.87      0.39      0.54       396\n",
            "\n",
            "    accuracy                           0.51       540\n",
            "   macro avg       0.60      0.61      0.51       540\n",
            "weighted avg       0.72      0.51      0.52       540\n",
            "\n"
          ]
        }
      ]
    }
  ]
}